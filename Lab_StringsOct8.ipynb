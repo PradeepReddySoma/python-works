{
  "nbformat": 4,
  "nbformat_minor": 0,
  "metadata": {
    "colab": {
      "name": "Lab: StringsOct8.ipynb",
      "provenance": [],
      "collapsed_sections": [],
      "include_colab_link": true
    },
    "kernelspec": {
      "name": "python3",
      "display_name": "Python 3"
    },
    "language_info": {
      "name": "python"
    }
  },
  "cells": [
    {
      "cell_type": "markdown",
      "metadata": {
        "id": "view-in-github",
        "colab_type": "text"
      },
      "source": [
        "<a href=\"https://colab.research.google.com/github/PradeepReddySoma/python-works/blob/master/Lab_StringsOct8.ipynb\" target=\"_parent\"><img src=\"https://colab.research.google.com/assets/colab-badge.svg\" alt=\"Open In Colab\"/></a>"
      ]
    },
    {
      "cell_type": "code",
      "metadata": {
        "colab": {
          "base_uri": "https://localhost:8080/"
        },
        "id": "ccqts5zgZ6qG",
        "outputId": "03111e16-c455-43bb-eaa3-edb1950e2712"
      },
      "source": [
        "#code for Que :1\n",
        "def normalize(x):\n",
        "    if x > 122:\n",
        "        while x > 122:\n",
        "            x -= 26\n",
        "        return x\n",
        "    elif x < 97:\n",
        "        while x < 97:\n",
        "            x += 26\n",
        "        return x\n",
        "    else:\n",
        "        return x\n",
        "         \n",
        "def rotate_word(word, amount):\n",
        "    new_word = ''\n",
        "    for letter in word:\n",
        "        letter = letter.lower()\n",
        "        if not letter.isalpha():\n",
        "            new_word += letter\n",
        "        else:\n",
        "            new_word += chr(normalize(ord(letter) + amount))\n",
        "    return new_word\n",
        " \n",
        "print(rotate_word(\"melon\", -10))\n"
      ],
      "execution_count": null,
      "outputs": [
        {
          "output_type": "stream",
          "name": "stdout",
          "text": [
            "cubed\n"
          ]
        }
      ]
    },
    {
      "cell_type": "code",
      "metadata": {
        "colab": {
          "base_uri": "https://localhost:8080/"
        },
        "id": "G1AHvMPfcvt8",
        "outputId": "41c58955-3826-463c-cb60-6246dbf50a58"
      },
      "source": [
        "#code for Que:2\n",
        "#code for 2.a\n",
        "longstr=\"\"\"A number of years ago a French comic journal published a series of sketches supposed to represent the Shah of Persia influenced by various emotions\"\"\"\n",
        "\n",
        "#code for 2.b\n",
        "def WordOfLongestLength(longstr):\n",
        "     \n",
        "    length = 0\n",
        "     \n",
        "    # Finding longest word in sentence\n",
        "    for word in longstr.split():\n",
        "        if(len(word) > length):\n",
        "            length = len(word)\n",
        "            word1=word\n",
        "    return word1\n",
        " \n",
        "# Driver Code\n",
        "print(WordOfLongestLength(longstr))"
      ],
      "execution_count": null,
      "outputs": [
        {
          "output_type": "stream",
          "name": "stdout",
          "text": [
            "influenced\n"
          ]
        }
      ]
    },
    {
      "cell_type": "code",
      "metadata": {
        "colab": {
          "base_uri": "https://localhost:8080/"
        },
        "id": "B_fJLMvCh7bt",
        "outputId": "af61132b-42c8-4a3a-e2d1-311950f4605f"
      },
      "source": [
        "#code for Que 2.c\n",
        "test_list=[longstr]\n",
        "\n",
        "# printing the original list \n",
        "print (test_list)\n",
        "  \n",
        "# using list comprehension + enumerate() + split()\n",
        "# for Bigram formation\n",
        "res = [(x, i.split()[j + 1]) for i in test_list \n",
        "       for j, x in enumerate(i.split()) if j < len(i.split()) - 1]\n",
        "  \n",
        "# printing result\n",
        "print(res)\n"
      ],
      "execution_count": null,
      "outputs": [
        {
          "output_type": "stream",
          "name": "stdout",
          "text": [
            "['A number of years ago a French comic journal published a series of sketches supposed to represent the Shah of Persia influenced by various emotions']\n",
            "[('A', 'number'), ('number', 'of'), ('of', 'years'), ('years', 'ago'), ('ago', 'a'), ('a', 'French'), ('French', 'comic'), ('comic', 'journal'), ('journal', 'published'), ('published', 'a'), ('a', 'series'), ('series', 'of'), ('of', 'sketches'), ('sketches', 'supposed'), ('supposed', 'to'), ('to', 'represent'), ('represent', 'the'), ('the', 'Shah'), ('Shah', 'of'), ('of', 'Persia'), ('Persia', 'influenced'), ('influenced', 'by'), ('by', 'various'), ('various', 'emotions')]\n"
          ]
        }
      ]
    },
    {
      "cell_type": "code",
      "metadata": {
        "colab": {
          "base_uri": "https://localhost:8080/"
        },
        "id": "jRcldmY6_qD9",
        "outputId": "bd243559-8380-4e82-e925-1fa8c828183e"
      },
      "source": [
        "#code for Que 2.d\n",
        "import nltk\n",
        "nltk.download('punkt')\n",
        "longstr=\"\"\"A number of years ago a French comic journal published a series of sketches supposed to represent the Shah of Persia influenced by various emotions\"\"\"\n",
        "tokens = nltk.word_tokenize(longstr)\n",
        "bigrams = nltk.bigrams(tokens)\n",
        "frequence = nltk.FreqDist(bigrams)\n",
        "dictionary={}\n",
        "for key,value in frequence.items():\n",
        "    dictionary[key]=value\n",
        "print(dictionary)    "
      ],
      "execution_count": null,
      "outputs": [
        {
          "output_type": "stream",
          "name": "stdout",
          "text": [
            "[nltk_data] Downloading package punkt to /root/nltk_data...\n",
            "[nltk_data]   Package punkt is already up-to-date!\n",
            "{('A', 'number'): 2, ('number', 'of'): 2, ('of', 'A'): 1, ('of', 'years'): 1, ('years', 'ago'): 1, ('ago', 'a'): 1, ('a', 'French'): 1, ('French', 'comic'): 1, ('comic', 'journal'): 1, ('journal', 'published'): 1, ('published', 'a'): 1, ('a', 'series'): 1, ('series', 'of'): 1, ('of', 'sketches'): 1, ('sketches', 'supposed'): 1, ('supposed', 'to'): 1, ('to', 'represent'): 1, ('represent', 'the'): 1, ('the', 'Shah'): 1, ('Shah', 'of'): 1, ('of', 'Persia'): 1, ('Persia', 'influenced'): 1, ('influenced', 'by'): 1, ('by', 'various'): 1, ('various', 'emotions'): 1}\n"
          ]
        }
      ]
    },
    {
      "cell_type": "code",
      "metadata": {
        "colab": {
          "base_uri": "https://localhost:8080/"
        },
        "id": "mW4-q0JcLrlo",
        "outputId": "d7b4bffb-cdcd-458b-8968-5f3b4193e6a7"
      },
      "source": [
        "#code for Que 2.e\n",
        "import string\n",
        "longstr=\"\"\"A number of years ago a French comic journal published a series of sketches supposed to represent the Shah of Persia influenced by various emotions\"\"\"\n",
        "\n",
        "text=longstr\n",
        "#text=\"a for a for b for b  for\"\n",
        "\n",
        "for character in string.punctuation:\n",
        "    text = text.replace(character, \" \")\n",
        "\n",
        "while text != text.replace(\"  \", \" \"):\n",
        "    text = text.replace(\"  \", \" \")\n",
        "\n",
        "text = text.split(\" \")\n",
        "\n",
        "wordlist = []\n",
        "frequency_dict = dict()\n",
        "\n",
        "for i in range(len(text)-3):\n",
        "    wordlist.append([text[i], text[i+1], text[i+2]])\n",
        "\n",
        "for three_words in wordlist:\n",
        "    frequency= wordlist.count(three_words)\n",
        "    frequency_dict[\", \".join(three_words)] = frequency\n",
        "\n",
        "print(max(frequency_dict, key=frequency_dict.get), frequency_dict[max(frequency_dict, key=frequency_dict.get)])"
      ],
      "execution_count": null,
      "outputs": [
        {
          "output_type": "stream",
          "name": "stdout",
          "text": [
            "A, number, of 1\n"
          ]
        }
      ]
    },
    {
      "cell_type": "code",
      "metadata": {
        "colab": {
          "base_uri": "https://localhost:8080/"
        },
        "id": "xlmYYFAzU-75",
        "outputId": "36e1043c-bf91-41da-b31d-c3362e045b05"
      },
      "source": [
        "#code for Que 2.f\n",
        "def alphaOrder(longstr):\n",
        "    words=longstr.split()\n",
        "    words.sort(key = lambda k : k.lower())\n",
        "    return words\n",
        "\n",
        "longstr=\"\"\"A number of years ago a French comic journal published a series of sketches supposed to represent the Shah of Persia influenced by various emotions\"\"\"\n",
        "print(alphaOrder(longstr))"
      ],
      "execution_count": null,
      "outputs": [
        {
          "output_type": "stream",
          "name": "stdout",
          "text": [
            "['A', 'a', 'a', 'ago', 'by', 'comic', 'emotions', 'French', 'influenced', 'journal', 'number', 'of', 'of', 'of', 'Persia', 'published', 'represent', 'series', 'Shah', 'sketches', 'supposed', 'the', 'to', 'various', 'years']\n"
          ]
        }
      ]
    },
    {
      "cell_type": "code",
      "metadata": {
        "colab": {
          "base_uri": "https://localhost:8080/"
        },
        "id": "4ajgEWBBOUwo",
        "outputId": "191133ac-72ab-46a0-a9ae-e1a5c6f52a3f"
      },
      "source": [
        "#code for Que 2.g\n",
        "def normalize(x):\n",
        "    if x > 122:\n",
        "        while x > 122:\n",
        "            x -= 26\n",
        "        return x\n",
        "    elif x < 97:\n",
        "        while x < 97:\n",
        "            x += 26\n",
        "        return x\n",
        "    else:\n",
        "        return x\n",
        "         \n",
        "def rotate_word(word, amount):\n",
        "    new_word = ''\n",
        "    for letter in word:\n",
        "        letter = letter.lower()\n",
        "        if not letter.isalpha():\n",
        "            new_word += letter\n",
        "        else:\n",
        "            new_word += chr(normalize(ord(letter) + amount))\n",
        "    return new_word\n",
        " \n",
        "longstr=\"\"\"A number of years ago a French comic journal published a series of sketches supposed to represent the Shah of Persia influenced by various emotions\"\"\"\n",
        "\n",
        "print(rotate_word(longstr, 5))"
      ],
      "execution_count": null,
      "outputs": [
        {
          "output_type": "stream",
          "name": "stdout",
          "text": [
            "f szrgjw tk djfwx flt f kwjshm htrnh otzwsfq uzgqnxmji f xjwnjx tk xpjyhmjx xzuutxji yt wjuwjxjsy ymj xmfm tk ujwxnf nskqzjshji gd afwntzx jrtyntsx\n"
          ]
        }
      ]
    }
  ]
}