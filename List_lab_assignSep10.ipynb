{
  "nbformat": 4,
  "nbformat_minor": 0,
  "metadata": {
    "colab": {
      "name": "List_lab_assignSep10.ipynb",
      "provenance": [],
      "authorship_tag": "ABX9TyO3f9zpS5Bi1orbHGhD3W7F",
      "include_colab_link": true
    },
    "kernelspec": {
      "name": "python3",
      "display_name": "Python 3"
    },
    "language_info": {
      "name": "python"
    }
  },
  "cells": [
    {
      "cell_type": "markdown",
      "metadata": {
        "id": "view-in-github",
        "colab_type": "text"
      },
      "source": [
        "<a href=\"https://colab.research.google.com/github/PradeepReddySoma/python-works/blob/master/List_lab_assignSep10.ipynb\" target=\"_parent\"><img src=\"https://colab.research.google.com/assets/colab-badge.svg\" alt=\"Open In Colab\"/></a>"
      ]
    },
    {
      "cell_type": "code",
      "metadata": {
        "id": "QbL7A5hxqnDU",
        "colab": {
          "base_uri": "https://localhost:8080/"
        },
        "outputId": "6c2641f3-9d84-4b84-eaa7-86882ec2c1b0"
      },
      "source": [
        "#1.\n",
        "list1 = [1,2,3,\"Vamshi\",143,\"Keerthana\"]\n",
        "print(list1)\n",
        "def list_func(li):\n",
        "  li2 = []\n",
        "  for i in li:\n",
        "    if type(i) != str:\n",
        "      li2.append(i)\n",
        "  return li2\n",
        "\n",
        "print(list_func(list1))"
      ],
      "execution_count": 1,
      "outputs": [
        {
          "output_type": "stream",
          "name": "stdout",
          "text": [
            "[1, 2, 3, 'Vamshi', 143, 'Keerthana']\n",
            "[1, 2, 3, 143]\n"
          ]
        }
      ]
    },
    {
      "cell_type": "code",
      "metadata": {
        "colab": {
          "base_uri": "https://localhost:8080/"
        },
        "id": "TFHgc3LsqKiu",
        "outputId": "dcce39d5-4de8-4b85-c241-c31b84d85bdc"
      },
      "source": [
        "#2.\n",
        "maximum = [2,456,89,1098,2,45,67]\n",
        "def maximum_num(li):\n",
        "  m = max(li)\n",
        "  return m\n",
        "print(maximum_num(maximum))"
      ],
      "execution_count": 2,
      "outputs": [
        {
          "output_type": "stream",
          "name": "stdout",
          "text": [
            "1098\n"
          ]
        }
      ]
    },
    {
      "cell_type": "code",
      "metadata": {
        "colab": {
          "base_uri": "https://localhost:8080/"
        },
        "id": "OwnAXDs1qOzu",
        "outputId": "22b84398-2cbc-43fd-b06b-7403b5d57b8f"
      },
      "source": [
        "#3.\n",
        "maximum = [2,456,89,1098,2,45,67]\n",
        "def max_min(li):\n",
        "  diff = max(li) - min(li)\n",
        "  return diff\n",
        "\n",
        "print(max_min(maximum))"
      ],
      "execution_count": 3,
      "outputs": [
        {
          "output_type": "stream",
          "name": "stdout",
          "text": [
            "1096\n"
          ]
        }
      ]
    },
    {
      "cell_type": "code",
      "metadata": {
        "colab": {
          "base_uri": "https://localhost:8080/"
        },
        "id": "cXiuMtrNqSp_",
        "outputId": "2aa51cda-a6e4-4d65-9065-8ec6f9534b92"
      },
      "source": [
        "#4.\n",
        "\n",
        "sample_list = [2,456,89,1098,2,45,67]\n",
        "def sum_of_list(li):\n",
        "  s = 0\n",
        "  for i in li:\n",
        "    s = s+i\n",
        "  return s\n",
        "\n",
        "print(sum_of_list(sample_list))"
      ],
      "execution_count": 4,
      "outputs": [
        {
          "output_type": "stream",
          "name": "stdout",
          "text": [
            "1759\n"
          ]
        }
      ]
    },
    {
      "cell_type": "code",
      "metadata": {
        "colab": {
          "base_uri": "https://localhost:8080/"
        },
        "id": "2XA0MuavqWbh",
        "outputId": "327c28c7-9d9f-41b8-9910-e717ebc18ef2"
      },
      "source": [
        "#5.\n",
        "def three_parts(num):\n",
        "  li =[num/2,num/4,num/8]\n",
        "  return li\n",
        "\n",
        "print(three_parts(int(input(\"Enter a number : \"))))"
      ],
      "execution_count": 5,
      "outputs": [
        {
          "output_type": "stream",
          "name": "stdout",
          "text": [
            "Enter a number : 1024\n",
            "[512.0, 256.0, 128.0]\n"
          ]
        }
      ]
    },
    {
      "cell_type": "code",
      "metadata": {
        "colab": {
          "base_uri": "https://localhost:8080/"
        },
        "id": "Q-5zeexMqcz3",
        "outputId": "0d59f203-32a7-40ad-9b9c-a2ed17f65a9f"
      },
      "source": [
        "#6.\n",
        "l = [2,456,89,1098,2,45,67]\n",
        "\n",
        "def index_add_list(li):\n",
        "  for i in range(0,len(li)):\n",
        "    li[i] = li[i]+i\n",
        "  \n",
        "  return li\n",
        "\n",
        "print(index_add_list(l))"
      ],
      "execution_count": 6,
      "outputs": [
        {
          "output_type": "stream",
          "name": "stdout",
          "text": [
            "[2, 457, 91, 1101, 6, 50, 73]\n"
          ]
        }
      ]
    },
    {
      "cell_type": "code",
      "metadata": {
        "colab": {
          "base_uri": "https://localhost:8080/"
        },
        "id": "EmH8J6ZXqguV",
        "outputId": "31f60ad4-66e1-4275-c5a4-a0dd3fdfe02b"
      },
      "source": [
        "#7.\n",
        "l = [2,456,89,1098,2,45,67]\n",
        "def remove(li,num):\n",
        "  li.append(num)\n",
        "  del li[0]\n",
        "  return li\n",
        "\n",
        "print(remove(l,int(input(\"Enter any number : \"))))"
      ],
      "execution_count": 8,
      "outputs": [
        {
          "output_type": "stream",
          "name": "stdout",
          "text": [
            "Enter any number : 23\n",
            "[456, 89, 1098, 2, 45, 67, 23]\n"
          ]
        }
      ]
    },
    {
      "cell_type": "code",
      "metadata": {
        "colab": {
          "base_uri": "https://localhost:8080/"
        },
        "id": "p-PV0OFJqr2v",
        "outputId": "d816b09e-2d4b-45b8-f5ab-6c2a3931bec3"
      },
      "source": [
        "#8.\n",
        "l = [2, 456, 89 ,78,89,2,1098, 2, 45, 67]\n",
        "\n",
        "def sort_list(li):\n",
        "  li.sort()\n",
        "  x = set(li)\n",
        "  return list(x)\n",
        "\n",
        "print(sort_list(l))"
      ],
      "execution_count": 9,
      "outputs": [
        {
          "output_type": "stream",
          "name": "stdout",
          "text": [
            "[2, 67, 456, 1098, 45, 78, 89]\n"
          ]
        }
      ]
    }
  ]
}