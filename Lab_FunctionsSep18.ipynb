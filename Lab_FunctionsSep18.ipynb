{
  "nbformat": 4,
  "nbformat_minor": 0,
  "metadata": {
    "colab": {
      "name": "Lab: Functions_Assignment.ipynb",
      "provenance": [],
      "collapsed_sections": [],
      "include_colab_link": true
    },
    "kernelspec": {
      "name": "python3",
      "display_name": "Python 3"
    },
    "language_info": {
      "name": "python"
    }
  },
  "cells": [
    {
      "cell_type": "markdown",
      "metadata": {
        "id": "view-in-github",
        "colab_type": "text"
      },
      "source": [
        "<a href=\"https://colab.research.google.com/github/PradeepReddySoma/python-works/blob/master/Lab_FunctionsSep18.ipynb\" target=\"_parent\"><img src=\"https://colab.research.google.com/assets/colab-badge.svg\" alt=\"Open In Colab\"/></a>"
      ]
    },
    {
      "cell_type": "code",
      "metadata": {
        "colab": {
          "base_uri": "https://localhost:8080/"
        },
        "id": "HZ0j1FLrl4eN",
        "outputId": "c537d567-d371-46a3-ad76-3ea13ce711be"
      },
      "source": [
        "#code for Question :1\n",
        "def stutter(word):\n",
        "  word1=word[0:2]\n",
        "  print('\"',word1,'...',word1,'...',word,'?','\"')\n",
        "name=input('please input a string :')\n",
        "stutter(name)"
      ],
      "execution_count": null,
      "outputs": [
        {
          "output_type": "stream",
          "name": "stdout",
          "text": [
            "please input a string :dinesh\n",
            "\" di ... di ... dinesh ? \"\n"
          ]
        }
      ]
    },
    {
      "cell_type": "code",
      "metadata": {
        "colab": {
          "base_uri": "https://localhost:8080/"
        },
        "id": "x4qSnRGCn00R",
        "outputId": "881db0a7-5347-4877-8340-932ecf59817f"
      },
      "source": [
        "#code for Question :2\n",
        "def is_curzon(num):\n",
        "  elev_num=1+pow(2,num)\n",
        "  mult_num=1+2*num\n",
        "  if elev_num%mult_num==0 :\n",
        "    return True\n",
        "  else:\n",
        "    return False\n",
        "number=int(input('Please Enter a non negative integer :'))\n",
        "is_curzon(number)"
      ],
      "execution_count": null,
      "outputs": [
        {
          "name": "stdout",
          "output_type": "stream",
          "text": [
            "Please Enter a non negative integer :7\n"
          ]
        },
        {
          "output_type": "execute_result",
          "data": {
            "text/plain": [
              "False"
            ]
          },
          "metadata": {},
          "execution_count": 3
        }
      ]
    },
    {
      "cell_type": "code",
      "metadata": {
        "colab": {
          "base_uri": "https://localhost:8080/"
        },
        "id": "WLt3QDeZtLF9",
        "outputId": "18955634-7d5f-4961-ee87-ccb311859d91"
      },
      "source": [
        "#code for Question :3\n",
        "def factorial(x): \n",
        "    result = x\n",
        "    count = x-1\n",
        "    if result==0:\n",
        "      return 1\n",
        "    while count > 0:\n",
        "        result *= count\n",
        "        count -= 1\n",
        "    return result\n",
        "integer=int(input('Please Enter an integer :'))    \n",
        "print ('Factorial of',integer,'is', factorial(integer))"
      ],
      "execution_count": null,
      "outputs": [
        {
          "output_type": "stream",
          "name": "stdout",
          "text": [
            "Please Enter an integer :5\n",
            "Factorial of 5 is 120\n"
          ]
        }
      ]
    },
    {
      "cell_type": "code",
      "metadata": {
        "colab": {
          "base_uri": "https://localhost:8080/"
        },
        "id": "i2aP5HFKWiUu",
        "outputId": "4363895e-9905-45fc-da09-cd793eea9142"
      },
      "source": [
        "#code for Question :4\n",
        "def SumEvenDivNumbers(a, b, c):\n",
        "     \n",
        "    counter = 0;\n",
        " \n",
        "    \n",
        "    for i in range(a, b):\n",
        "        if (i % c == 0):\n",
        "            counter = counter + i\n",
        " \n",
        "    return counter\n",
        " \n",
        "a = int(input(\"Enter first number\"))\n",
        "b = int(input(\"Enter second number\"))\n",
        "c = int(input(\"Enter third number\"))\n",
        " \n",
        "# Printing the result\n",
        "print(\"sum of the numbers that are evenly divided by c is\",SumEvenDivNumbers(a, b, c))"
      ],
      "execution_count": null,
      "outputs": [
        {
          "output_type": "stream",
          "name": "stdout",
          "text": [
            "Enter first number1\n",
            "Enter second number5\n",
            "Enter third number4\n",
            "sum of the numbers that are evenly divided by c is 4\n"
          ]
        }
      ]
    },
    {
      "cell_type": "code",
      "metadata": {
        "colab": {
          "base_uri": "https://localhost:8080/"
        },
        "id": "0Tv6mO7mzzgO",
        "outputId": "a58396ab-9419-4ffd-ee9b-a350947679cd"
      },
      "source": [
        "#code for Question :5\n",
        "def replaceVowelsWithK(test_str, K):\n",
        " \n",
        "    vowels = 'AEIOUaeiou'\n",
        " \n",
        "    for ele in vowels:\n",
        "        test_str = test_str.replace(ele, K)\n",
        "    return test_str\n",
        " \n",
        "input_str = input()\n",
        "K = \"#\"\n",
        "\n",
        "print(\"Given Sting:\", input_str)\n",
        "print(\"Given Specified Character:\", K)\n",
        "print(\"After replacing vowels with the specified character:\",\n",
        "      replaceVowelsWithK(input_str, K))"
      ],
      "execution_count": null,
      "outputs": [
        {
          "output_type": "stream",
          "name": "stdout",
          "text": [
            "pradeep\n",
            "Given Sting: pradeep\n",
            "Given Specified Character: #\n",
            "After replacing vowels with the specified character: pr#d##p\n"
          ]
        }
      ]
    },
    {
      "cell_type": "code",
      "metadata": {
        "colab": {
          "base_uri": "https://localhost:8080/"
        },
        "id": "mflc7v_n2C3k",
        "outputId": "16f8117a-8459-4727-a493-c22973f15783"
      },
      "source": [
        "#code for Question :6\n",
        "def convertOpposite(str1):\n",
        "    ln = len(str1)\n",
        " \n",
        "    for i in range(ln):\n",
        "        if str[i] >= 'a' and str[i] <= 'z':\n",
        " \n",
        "            str[i] = chr(ord(str[i]) - 32)\n",
        " \n",
        "        elif str[i] >= 'A' and str[i] <= 'Z':\n",
        " \n",
        "            str[i] = chr(ord(str[i]) + 32)\n",
        " \n",
        "\n",
        "if __name__ == \"__main__\":\n",
        "    strg = input('Enter a string :')\n",
        "    str = list(strg)\n",
        " \n",
        "    # Calling the Function\n",
        "    convertOpposite(str)\n",
        " \n",
        "    str = ''.join(str)\n",
        "    print(str)\n",
        " \n"
      ],
      "execution_count": null,
      "outputs": [
        {
          "output_type": "stream",
          "name": "stdout",
          "text": [
            "Enter a string :Pradeep\n",
            "pRADEEP\n"
          ]
        }
      ]
    },
    {
      "cell_type": "code",
      "metadata": {
        "colab": {
          "base_uri": "https://localhost:8080/"
        },
        "id": "4cyKx6Lu6icE",
        "outputId": "bfb03f93-abfa-4d8e-dbbd-d6f877a2630f"
      },
      "source": [
        "#code for Question :7\n",
        "def priceAfterDiscount(orig_price,disc_perc):\n",
        "  s=100-disc_perc\n",
        "  amount=s*orig_price/100\n",
        "  return amount\n",
        "\n",
        "orig_price=int(input(\"Enter the original price :\"))\n",
        "disc_perc=int(input(\"Enter the discount percentage :\"))\n",
        "amount=priceAfterDiscount(orig_price,disc_perc)\n",
        "print(\"Final price afer the discount is\",amount)"
      ],
      "execution_count": null,
      "outputs": [
        {
          "output_type": "stream",
          "name": "stdout",
          "text": [
            "Enter the original price :125\n",
            "Enter the discount percentage :25\n",
            "Final price afer the discount is 93.75\n"
          ]
        }
      ]
    },
    {
      "cell_type": "code",
      "metadata": {
        "colab": {
          "base_uri": "https://localhost:8080/"
        },
        "id": "2rDnjjArAQrT",
        "outputId": "96611979-6b9a-484c-e666-c988f1a0d298"
      },
      "source": [
        "#code for Question :8\n",
        "def countDigit(n):\n",
        "    count = 0\n",
        "    while n != 0:\n",
        "        n //= 10\n",
        "        count += 1\n",
        "    return count\n",
        " \n",
        " \n",
        "# Driver Code\n",
        "n = int(input())\n",
        "print(\"Length of the Number : % d\" % (countDigit(n)))"
      ],
      "execution_count": null,
      "outputs": [
        {
          "output_type": "stream",
          "name": "stdout",
          "text": [
            "3214567\n",
            "Length of the Number :  7\n"
          ]
        }
      ]
    },
    {
      "cell_type": "code",
      "metadata": {
        "id": "LDbPyEGYgSlc"
      },
      "source": [
        "#Bonus question\n",
        "def istMultiplesTillLength(num,length):\n",
        "  count=1\n",
        "  for i in range(num,length+1):\n",
        "       \n",
        "\n",
        "num=int(input())\n",
        "length=int(input())\n",
        "listMultiplesTillLength(num,length)"
      ],
      "execution_count": null,
      "outputs": []
    },
    {
      "cell_type": "code",
      "metadata": {
        "colab": {
          "base_uri": "https://localhost:8080/"
        },
        "id": "9v9x4XPDkh6r",
        "outputId": "abcce2e1-a73e-4fbe-f033-f57d4420772e"
      },
      "source": [
        "for i in range(1,5+1):\n",
        "  print(i)"
      ],
      "execution_count": null,
      "outputs": [
        {
          "output_type": "stream",
          "name": "stdout",
          "text": [
            "1\n",
            "2\n",
            "3\n",
            "4\n",
            "5\n"
          ]
        }
      ]
    }
  ]
}