{
  "nbformat": 4,
  "nbformat_minor": 0,
  "metadata": {
    "colab": {
      "name": "Homework: ListsOct1.ipynb",
      "provenance": [],
      "collapsed_sections": [],
      "include_colab_link": true
    },
    "kernelspec": {
      "name": "python3",
      "display_name": "Python 3"
    },
    "language_info": {
      "name": "python"
    }
  },
  "cells": [
    {
      "cell_type": "markdown",
      "metadata": {
        "id": "view-in-github",
        "colab_type": "text"
      },
      "source": [
        "<a href=\"https://colab.research.google.com/github/PradeepReddySoma/python-works/blob/master/Homework_ListsOct1.ipynb\" target=\"_parent\"><img src=\"https://colab.research.google.com/assets/colab-badge.svg\" alt=\"Open In Colab\"/></a>"
      ]
    },
    {
      "cell_type": "code",
      "metadata": {
        "colab": {
          "base_uri": "https://localhost:8080/"
        },
        "id": "xlE-MAGsBV6L",
        "outputId": "7f5ab62a-7afa-402e-881c-f8d65d52acb5"
      },
      "source": [
        "#code for que:1 Write a function called is_sorted that takes a list as a parameter and returns True if the list is sorted in ascending order and False otherwise. You can assume (as a precondition) that the elements of the list can be compared with the relational operators <, >, etc.\n",
        "\n",
        "#For example, is_sorted([1,2,2]) should return True and is_sorted(['b','a']) should return False.\n",
        "def is_sorted(stuff):\n",
        "    for index, item in enumerate(stuff):\n",
        "        try:\n",
        "            if item > stuff[index + 1]:\n",
        "                return False\n",
        "        except IndexError:\n",
        "            return True\n",
        "numbers = [1, 2, 6, 7, 8]\n",
        "#numbers=['b','a']\n",
        "\n",
        "print(is_sorted(numbers))          "
      ],
      "execution_count": null,
      "outputs": [
        {
          "output_type": "stream",
          "name": "stdout",
          "text": [
            "True\n"
          ]
        }
      ]
    },
    {
      "cell_type": "code",
      "metadata": {
        "colab": {
          "base_uri": "https://localhost:8080/"
        },
        "id": "1UgK_KMflccV",
        "outputId": "562dd3fe-11cd-4d2b-ef87-36db4b8e2213"
      },
      "source": [
        "#code for que:2 :Two words are anagrams if you can rearrange the letters from one to spell the other. Write a function called is_anagram that takes two strings and returns True if they are anagrams.\n",
        "stringOne = input(\"Enter first string :\")\n",
        "stringTwo = input(\"Enter second string :\")\n",
        "\n",
        "\n",
        "def is_anagram(stringOne, stringTwo):\n",
        "    return sorted(stringOne) == sorted(stringTwo)\n",
        "\n",
        "is_anagram(stringOne, stringTwo)"
      ],
      "execution_count": null,
      "outputs": [
        {
          "name": "stdout",
          "output_type": "stream",
          "text": [
            "Enter first string :are\n",
            "Enter second string :rab\n"
          ]
        },
        {
          "output_type": "execute_result",
          "data": {
            "text/plain": [
              "False"
            ]
          },
          "metadata": {},
          "execution_count": 82
        }
      ]
    },
    {
      "cell_type": "code",
      "metadata": {
        "colab": {
          "base_uri": "https://localhost:8080/"
        },
        "id": "j-VGX9hunNPF",
        "outputId": "2ae4ebe7-d28b-4018-d25b-a5a6d78477c3"
      },
      "source": [
        "#code for que:3 : Write a function called has_duplicates that takes a list and returns True if there is any element that appears more than once. It should not modify the original list.\n",
        "import random\n",
        "\n",
        "def has_duplicates(t):\n",
        "    sort = t[:]\n",
        "    sort.sort()\n",
        "    for i in range(len(sort)-1):\n",
        "        if sort[i] == sort[i+1]:\n",
        "            return True\n",
        "            \n",
        "v = ['egg', 'rat', 'egg']\n",
        "print(has_duplicates(v))\n"
      ],
      "execution_count": null,
      "outputs": [
        {
          "output_type": "stream",
          "name": "stdout",
          "text": [
            "True\n"
          ]
        }
      ]
    },
    {
      "cell_type": "code",
      "metadata": {
        "colab": {
          "base_uri": "https://localhost:8080/"
        },
        "id": "zRvb172s8nVa",
        "outputId": "fe484d3e-5781-467b-d1c0-d72c53768698"
      },
      "source": [
        "#code for que:4 : Two words are a “reverse pair” if each is the reverse of the other. Write a program that finds all the reverse pairs in the word list.\n",
        "def  find_reverse_pair(word_list):\n",
        "     import itertools\n",
        "     reverse_pairs=[]\n",
        "     pairs=list(itertools.combinations(word_list,2))\n",
        "     for(a,b) in pairs:\n",
        "            if len(a)==len(b):\n",
        "                    k=0\n",
        "                    for i in range(len(a)):\n",
        "                            if a[i]==b[-(i+1)]:\n",
        "                                    k=k+1\n",
        "                    if k==len(a):\n",
        "                            reverse_pairs.append((a,b))\n",
        "     return reverse_pairs\n",
        "                  \n",
        "word_list=['ram','mar','ab','ba','foam','amfo']\n",
        "find_reverse_pair(word_list)\n"
      ],
      "execution_count": null,
      "outputs": [
        {
          "output_type": "execute_result",
          "data": {
            "text/plain": [
              "[('ram', 'mar'), ('ab', 'ba')]"
            ]
          },
          "metadata": {},
          "execution_count": 97
        }
      ]
    }
  ]
}