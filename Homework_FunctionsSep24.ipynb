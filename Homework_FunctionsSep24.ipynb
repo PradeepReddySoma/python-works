{
  "nbformat": 4,
  "nbformat_minor": 0,
  "metadata": {
    "colab": {
      "name": "Homework: FunctionsSep24.ipynb",
      "provenance": [],
      "authorship_tag": "ABX9TyOdZRDUhjRVkElp/JXt+7cE",
      "include_colab_link": true
    },
    "kernelspec": {
      "name": "python3",
      "display_name": "Python 3"
    },
    "language_info": {
      "name": "python"
    }
  },
  "cells": [
    {
      "cell_type": "markdown",
      "metadata": {
        "id": "view-in-github",
        "colab_type": "text"
      },
      "source": [
        "<a href=\"https://colab.research.google.com/github/PradeepReddySoma/python-works/blob/master/Homework_FunctionsSep24.ipynb\" target=\"_parent\"><img src=\"https://colab.research.google.com/assets/colab-badge.svg\" alt=\"Open In Colab\"/></a>"
      ]
    },
    {
      "cell_type": "code",
      "metadata": {
        "colab": {
          "base_uri": "https://localhost:8080/"
        },
        "id": "22vOSInz5m11",
        "outputId": "931577d0-00e8-48eb-a078-c146f2c9e721"
      },
      "source": [
        "#A function object is a value you can assign to a variable or pass as an argument. For example, do_twice is a function that takes a function object as an argument and calls it twice:\n",
        "\n",
        "#def do_twice(f):\n",
        "#  f()\n",
        "#   f()\n",
        "#Type this example into a script and test it.\n",
        "\n",
        "## do_twice function\n",
        "#1\n",
        "def do_twice(f):\n",
        "    f()\n",
        "    f()\n",
        "def sample_func():\n",
        "  print(\"Hello\")\n",
        "\n",
        "do_twice(sample_func)"
      ],
      "execution_count": 1,
      "outputs": [
        {
          "output_type": "stream",
          "name": "stdout",
          "text": [
            "Hello\n",
            "Hello\n"
          ]
        }
      ]
    },
    {
      "cell_type": "code",
      "metadata": {
        "colab": {
          "base_uri": "https://localhost:8080/"
        },
        "id": "Jg3TQufu53I2",
        "outputId": "0dcf6917-b9a5-46eb-fe95-55141baa166e"
      },
      "source": [
        "#2.Modify do_twice so that it takes two arguments, a function object and a value, and calls the function twice, passing the value as an argument.\n",
        "def do_twice(f,val):\n",
        "    f(val)\n",
        "    f(val)\n",
        "def sample_func(txt):\n",
        "  print(\"Hello\",txt)\n",
        "\n",
        "do_twice(sample_func,\"vamshi\")"
      ],
      "execution_count": 2,
      "outputs": [
        {
          "output_type": "stream",
          "name": "stdout",
          "text": [
            "Hello vamshi\n",
            "Hello vamshi\n"
          ]
        }
      ]
    },
    {
      "cell_type": "code",
      "metadata": {
        "colab": {
          "base_uri": "https://localhost:8080/"
        },
        "id": "SvLRYVSi57VC",
        "outputId": "5e978c23-fecf-48fa-ed74-1e8f4b00003b"
      },
      "source": [
        "#3.Write a more general version of print_spam, called print_twice, that takes a string as a parameter and prints it twice.\n",
        "y = \"Monster\"\n",
        "\n",
        "def print_twice(txt):\n",
        "  print(txt)\n",
        "  print(txt)\n",
        "\n",
        "print_twice(y)"
      ],
      "execution_count": 3,
      "outputs": [
        {
          "output_type": "stream",
          "name": "stdout",
          "text": [
            "Monster\n",
            "Monster\n"
          ]
        }
      ]
    },
    {
      "cell_type": "code",
      "metadata": {
        "colab": {
          "base_uri": "https://localhost:8080/"
        },
        "id": "tK_LkAD_5_h3",
        "outputId": "45835e42-9939-42d4-ede9-67356b3113d8"
      },
      "source": [
        "#4.Use the modified version of do_twice to call print_twice twice, passing 'spam' as an argument.\n",
        "x = \"spam\"\n",
        "do_twice(print_twice,x)"
      ],
      "execution_count": 4,
      "outputs": [
        {
          "output_type": "stream",
          "name": "stdout",
          "text": [
            "spam\n",
            "spam\n",
            "spam\n",
            "spam\n"
          ]
        }
      ]
    },
    {
      "cell_type": "code",
      "metadata": {
        "colab": {
          "base_uri": "https://localhost:8080/"
        },
        "id": "eG6Gss3n6C03",
        "outputId": "7cba8550-f858-4d47-a976-8e19b1776414"
      },
      "source": [
        "#5.Define a new function called do_four that takes a function object and a value and calls the function four times, passing the value as a parameter. There should be only two statements in the body of this function, not four.\n",
        "def do_four(f,val):\n",
        "  do_twice(f,val)\n",
        "  do_twice(f,val)\n",
        "\n",
        "do_four(sample_func,\"Vamshi\")"
      ],
      "execution_count": 5,
      "outputs": [
        {
          "output_type": "stream",
          "name": "stdout",
          "text": [
            "Hello Vamshi\n",
            "Hello Vamshi\n",
            "Hello Vamshi\n",
            "Hello Vamshi\n"
          ]
        }
      ]
    },
    {
      "cell_type": "code",
      "metadata": {
        "colab": {
          "base_uri": "https://localhost:8080/"
        },
        "id": "x3os_oyD6VBl",
        "outputId": "6a8dd863-a75e-4e94-b47a-7f4a728f477c"
      },
      "source": [
        "##Fermat’s Last Theorem says that there are no positive integers a, b, and c such that\n",
        "\n",
        "##an + bn = cn \n",
        "#1.Write a function named check_fermat that takes four parameters—a, b, c and n—and that checks to see if Fermat’s theorem holds. If n is greater than 2 and it turns out to be true that\n",
        "#an + bn = cn \n",
        "#the program should print, “Holy smokes, Fermat was wrong!” Otherwise the program should print, “No, that doesn’t work.”\n",
        "def check_fermat(a,b,c,n):\n",
        "  if n>2 and (a**n + b**n == c**n):\n",
        "    print(\"Holy smokes, Fermat was wrong!\")\n",
        "  else:\n",
        "    print(\"No, that doesn’t work.\")\n",
        "\n",
        "check_fermat(2,3,5,3)"
      ],
      "execution_count": 9,
      "outputs": [
        {
          "output_type": "stream",
          "name": "stdout",
          "text": [
            "No, that doesn’t work.\n"
          ]
        }
      ]
    },
    {
      "cell_type": "code",
      "metadata": {
        "colab": {
          "base_uri": "https://localhost:8080/"
        },
        "id": "lF4b-fif6V9e",
        "outputId": "d6709ac9-722e-4486-ca41-d844c7d4e597"
      },
      "source": [
        "#2.Write a function that prompts the user to input values for a, b, c and n, converts them to integers, and uses check_fermat to check whether they violate Fermat’s theorem.\n",
        "def user_input_values():\n",
        "  a = int(input(\"Enter a number a: \"))\n",
        "  b = int(input(\"Enter a number b: \"))\n",
        "  c = int(input(\"Enter a number c: \"))\n",
        "  n = int(input(\"Enter a number n: \"))\n",
        "\n",
        "  return check_fermat(a,b,c,n)\n",
        "\n",
        "user_input_values()"
      ],
      "execution_count": 7,
      "outputs": [
        {
          "output_type": "stream",
          "name": "stdout",
          "text": [
            "Enter a number a: 5\n",
            "Enter a number b: 5\n",
            "Enter a number c: 5\n",
            "Enter a number n: 8\n",
            "No, that doesn’t work.\n"
          ]
        }
      ]
    },
    {
      "cell_type": "code",
      "metadata": {
        "colab": {
          "base_uri": "https://localhost:8080/"
        },
        "id": "DQfzSMOE6kN5",
        "outputId": "5476a7bb-22dc-449f-ee25-3adde6fea508"
      },
      "source": [
        "##bonus question : Write a program to sort words by length. Define a helper function cmp_len which uses the cmp comparison function on word lengths.\n",
        "list = [\"hello\",\"ww\",\"ab\",\"hi\",\"world\",\"ab\",\"fantasy\",\"gfdh\"]\n",
        "print(list)\n",
        "def cmp_len(list):\n",
        "  list.sort(key = len)\n",
        "  print(list)\n",
        "\n",
        "cmp_len(list)"
      ],
      "execution_count": 11,
      "outputs": [
        {
          "output_type": "stream",
          "name": "stdout",
          "text": [
            "['hello', 'ww', 'ab', 'hi', 'world', 'ab', 'fantasy', 'gfdh']\n",
            "['ww', 'ab', 'hi', 'ab', 'gfdh', 'hello', 'world', 'fantasy']\n"
          ]
        }
      ]
    }
  ]
}