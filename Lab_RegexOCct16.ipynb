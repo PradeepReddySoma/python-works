{
  "nbformat": 4,
  "nbformat_minor": 0,
  "metadata": {
    "colab": {
      "name": "Lab_RegexOCct16.ipynb",
      "provenance": [],
      "collapsed_sections": [],
      "authorship_tag": "ABX9TyMlZbVM8FwG3KWbRnYdPWHi",
      "include_colab_link": true
    },
    "kernelspec": {
      "name": "python3",
      "display_name": "Python 3"
    },
    "language_info": {
      "name": "python"
    }
  },
  "cells": [
    {
      "cell_type": "markdown",
      "metadata": {
        "id": "view-in-github",
        "colab_type": "text"
      },
      "source": [
        "<a href=\"https://colab.research.google.com/github/PradeepReddySoma/python-works/blob/master/Lab_RegexOCct16.ipynb\" target=\"_parent\"><img src=\"https://colab.research.google.com/assets/colab-badge.svg\" alt=\"Open In Colab\"/></a>"
      ]
    },
    {
      "cell_type": "code",
      "metadata": {
        "colab": {
          "base_uri": "https://localhost:8080/"
        },
        "id": "PnT2P3wv636q",
        "outputId": "8ccb3a01-a2d8-4a3f-8720-3fe4ad3e2988"
      },
      "source": [
        "#code ffor Question: 1 Write a regular expression that will match any phone number, without an extension. The expression should be able to match things like \"9721112222\", \"1-800-222-2222\", \"123 456 7890\", etc. \n",
        "import re\n",
        "phonenumber= \"1-800-222-2222\"\n",
        "regex= \"^[+]*[(]{0,1}[0-9]{1,4}[)]{0,1}[-\\s\\./0-9]*$\"\n",
        "if re.search(regex, phonenumber):\n",
        "   print(\"Valid phone number\")\n",
        "else:\n",
        "   print(\"Invalid phone number\")"
      ],
      "execution_count": null,
      "outputs": [
        {
          "output_type": "stream",
          "name": "stdout",
          "text": [
            "Valid phone number\n"
          ]
        }
      ]
    },
    {
      "cell_type": "code",
      "metadata": {
        "colab": {
          "base_uri": "https://localhost:8080/"
        },
        "id": "r9fpOs3JHm_9",
        "outputId": "9ccab4da-c959-44c6-b676-f85e915a8ea5"
      },
      "source": [
        "#code for Question: 2 Write a regular expression that will match any email address. For the username and domain name, any number, letter (capital or lowercase), or underscore should be allowed. Match examples: \"somebody@gmail.com\", \"mail@somebody.org\", \"mail@mail.net\"\n",
        "import re\n",
        "email_addr= \"somebody@gmail.com\"\n",
        "regex= \"\\w+@\\w+\"\n",
        "if re.search(regex, email_addr):\n",
        "   print(\"Valid email address \")\n",
        "else:\n",
        "   print(\"Invalid email address\")"
      ],
      "execution_count": null,
      "outputs": [
        {
          "output_type": "stream",
          "name": "stdout",
          "text": [
            "Valid email address \n"
          ]
        }
      ]
    },
    {
      "cell_type": "code",
      "metadata": {
        "colab": {
          "base_uri": "https://localhost:8080/"
        },
        "id": "iRlfQM3PIIuz",
        "outputId": "398e8b60-0812-4dd1-e67b-62e6a32a019e"
      },
      "source": [
        "#code for Question: 3 Write a regular expression which can match amounts of dollars, either in numerical or word form. Example matches should include: \"10 dollars, $10, $10.00 dollars, \"$.5\", \"1 dollar\"\n",
        "\n",
        " \n",
        "import re\n",
        "dollar= \"1 dollar\"\n",
        "regex= \"(\\$?[0-9]+(\\.[0-9]+)?)\"\n",
        "if re.search(regex, dollar):\n",
        "   print(\"Valid dollar \")\n",
        "else:\n",
        "   print(\"Invalid dollar\")"
      ],
      "execution_count": null,
      "outputs": [
        {
          "output_type": "stream",
          "name": "stdout",
          "text": [
            "Valid dollar \n"
          ]
        }
      ]
    },
    {
      "cell_type": "code",
      "metadata": {
        "colab": {
          "base_uri": "https://localhost:8080/"
        },
        "id": "2M-EIiDWKGil",
        "outputId": "c4f2469d-23f9-4391-dda9-fac90a194009"
      },
      "source": [
        "#code for Question: 4.Write a regular expression to return all words which are at least 3 letters long and at most 4 letters long. It should match things like \"the\", \"this\", \"you\", \"your\", \"him\", \"her\", \"them\", \"etc.\". Get a paragraph of text to test out your expression.\n",
        "\n",
        " \n",
        "import re\n",
        "para = \"If you invested $1 in the year 1801, you would have $18087791.41 today.This is a 7.967% return on investment.But if you invested only $0.25 in 1801, you would end up with $4521947.8525.\"\n",
        "regex = [x for x in re.findall(r'\\b[a-zA-Z]{3,4}\\b', para)]\n",
        "print(para)\n",
        "print(regex)"
      ],
      "execution_count": null,
      "outputs": [
        {
          "output_type": "stream",
          "name": "stdout",
          "text": [
            "If you invested $1 in the year 1801, you would have $18087791.41 today.This is a 7.967% return on investment.But if you invested only $0.25 in 1801, you would end up with $4521947.8525.\n",
            "['you', 'the', 'year', 'you', 'have', 'This', 'But', 'you', 'only', 'you', 'end', 'with']\n"
          ]
        }
      ]
    },
    {
      "cell_type": "code",
      "metadata": {
        "colab": {
          "base_uri": "https://localhost:8080/"
        },
        "id": "M8mYik5pLsfJ",
        "outputId": "0226887b-2e00-44d9-82f8-74de70962324"
      },
      "source": [
        "#code for Question: 5.Write a regular expression to match all strings with two consecutive repeated words (e.g., “Humbert Humbert” and “the the” but not “the bug” or “the big bug”.\n",
        "import re\n",
        "para = \"If you invested invested $1 in the year 1801, you would have $18087791.41 today.This is a 7.967% Humbert Humbert return on investment.But the the if you invested only $0.25 in 1801, you would end up with $4521947.8525 hum hum.\"\n",
        "regexStr = [x for x in re.findall(r'\\b(\\w+)\\s\\1\\b', para)]\n",
        "print(para)\n",
        "print(regexStr)"
      ],
      "execution_count": null,
      "outputs": [
        {
          "output_type": "stream",
          "name": "stdout",
          "text": [
            "If you invested invested $1 in the year 1801, you would have $18087791.41 today.This is a 7.967% Humbert Humbert return on investment.But the the if you invested only $0.25 in 1801, you would end up with $4521947.8525 hum hum.\n",
            "['invested', 'Humbert', 'the', 'hum']\n"
          ]
        }
      ]
    },
    {
      "cell_type": "code",
      "metadata": {
        "colab": {
          "base_uri": "https://localhost:8080/"
        },
        "id": "4wEygrLAStwB",
        "outputId": "601496fe-1701-4e45-b732-7c27219f8164"
      },
      "source": [
        "#code for Question: 6.Write a regular expression to match all strings that start at the beginning of the line with an integer and that end the line with a word\n",
        "\n",
        "\n",
        "import re\n",
        "para = \"If you invested $1 in the year 1801, you would have $18087791.41 today \"\n",
        "regex = [x for x in re.findall(r'[0-9].+[a-zA-Z]', para)]\n",
        "print(para)\n",
        "print(regex)"
      ],
      "execution_count": null,
      "outputs": [
        {
          "output_type": "stream",
          "name": "stdout",
          "text": [
            "If you invested $1 in the year 1801, you would have $18087791.41 today \n",
            "['1 in the year 1801, you would have $18087791.41 today']\n"
          ]
        }
      ]
    },
    {
      "cell_type": "code",
      "metadata": {
        "colab": {
          "base_uri": "https://localhost:8080/"
        },
        "id": "UMk_46RnTNcw",
        "outputId": "e64997b7-be35-4924-fdfb-5425fddbfc20"
      },
      "source": [
        "#code for Question: 7.Write a regular expression to match all lower case alphabetic strings ending in a b; \n",
        "import re\n",
        "para = \"If you(bob) invested you would have today hellob bub\"\n",
        "regex = [x for x in re.findall(r'\\w*b', para)]\n",
        "print(para)\n",
        "print(regex)"
      ],
      "execution_count": null,
      "outputs": [
        {
          "output_type": "stream",
          "name": "stdout",
          "text": [
            "If you(bob) invested you would have today hellob bub\n",
            "['bob', 'hellob', 'bub']\n"
          ]
        }
      ]
    },
    {
      "cell_type": "code",
      "metadata": {
        "colab": {
          "base_uri": "https://localhost:8080/"
        },
        "id": "DnWABk90T8BN",
        "outputId": "680c278f-085e-4393-ed97-befb0f71d88f"
      },
      "source": [
        "#Bonus .Write a regular expression to match any word with a doubled letter. Examples would include: \"Swell\", \"green\", \"swimming\", \"Fall\", \"roof\". Test your expression on your paragraph from question 4.\n",
        "import re\n",
        "word = \"hello\"\n",
        "regex = [x for x in re.findall(r\"\\b.*(\\w)\\1{1}.*\\b\", word)]\n",
        "if(regex):\n",
        "   print(\"matched\")\n",
        "else:\n",
        "   print(\"unmatched\")"
      ],
      "execution_count": null,
      "outputs": [
        {
          "output_type": "stream",
          "name": "stdout",
          "text": [
            "matched\n"
          ]
        }
      ]
    }
  ]
}