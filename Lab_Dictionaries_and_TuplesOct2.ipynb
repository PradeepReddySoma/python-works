{
  "nbformat": 4,
  "nbformat_minor": 0,
  "metadata": {
    "colab": {
      "name": "Lab: Dictionaries and TuplesOct2.ipynb",
      "provenance": [],
      "authorship_tag": "ABX9TyMJ/ltQLK0sW1a2b/bUALBA",
      "include_colab_link": true
    },
    "kernelspec": {
      "name": "python3",
      "display_name": "Python 3"
    },
    "language_info": {
      "name": "python"
    }
  },
  "cells": [
    {
      "cell_type": "markdown",
      "metadata": {
        "id": "view-in-github",
        "colab_type": "text"
      },
      "source": [
        "<a href=\"https://colab.research.google.com/github/PradeepReddySoma/python-works/blob/master/Lab_Dictionaries_and_TuplesOct2.ipynb\" target=\"_parent\"><img src=\"https://colab.research.google.com/assets/colab-badge.svg\" alt=\"Open In Colab\"/></a>"
      ]
    },
    {
      "cell_type": "code",
      "metadata": {
        "colab": {
          "base_uri": "https://localhost:8080/"
        },
        "id": "I4EHpCA6_axM",
        "outputId": "8f51d2d4-8eb3-4ba2-ae83-aff66a5e3a09"
      },
      "source": [
        "#1 Given a dictionary, write a function which returns a dictionary where the keys and values are swapped. Every value for the original dictionary should be a key in the new dictionary.\n",
        "org = {\"x\":1,\"b\":2}\n",
        "\n",
        "def swapkeystovalues(d):\n",
        "\n",
        "  nd = dict((v,k) for k,v in d.items())\n",
        "  return nd\n",
        "\n",
        "print(swapkeystovalues(org))"
      ],
      "execution_count": 1,
      "outputs": [
        {
          "output_type": "stream",
          "name": "stdout",
          "text": [
            "{1: 'x', 2: 'b'}\n"
          ]
        }
      ]
    },
    {
      "cell_type": "code",
      "metadata": {
        "colab": {
          "base_uri": "https://localhost:8080/"
        },
        "id": "FvAaCYku_hxs",
        "outputId": "2e5ed474-cc53-4c01-c7a5-035945b7b622"
      },
      "source": [
        "#2.Write a function that takes as input two different dictionaries and returns a list of keys that exist in both dictionaries.\n",
        "d1 = {\"a\":\"abc\",\"b\":\"bcd\"}\n",
        "d2 = {\"c\":\"cde\",\"d\":\"def\"}\n",
        "\n",
        "def islistitems(d1,d2):\n",
        "  li = list(d1)\n",
        "  li.extend(list(d2))\n",
        "  return li\n",
        "\n",
        "print(islistitems(d1,d2))"
      ],
      "execution_count": 2,
      "outputs": [
        {
          "output_type": "stream",
          "name": "stdout",
          "text": [
            "['a', 'b', 'c', 'd']\n"
          ]
        }
      ]
    },
    {
      "cell_type": "code",
      "metadata": {
        "colab": {
          "base_uri": "https://localhost:8080/"
        },
        "id": "cxCzVcl6_k4T",
        "outputId": "495a0db2-036a-481d-86ac-59d072a330ee"
      },
      "source": [
        "#3. Write a function that converts a dictionary into a list of tuples, where each element in the list represents a key-value pair in the form of a tuple. For example: If the input dictionary was {\"dogs\": 7, \"cats\" : 10, \"horses\" : 5} the output would be [ (\"dogs\", 7), (\"cats\", 10), (\"horses\", 5) ]\n",
        "d3 = {\"dogs\": 7,\"cats\":10,\"horses\":5}\n",
        "\n",
        "def kvtotuples(d3):\n",
        "  li = []\n",
        "  for i in d3.items():\n",
        "    li.append(i)\n",
        "  \n",
        "  return li\n",
        "\n",
        "print(kvtotuples(d3))"
      ],
      "execution_count": 3,
      "outputs": [
        {
          "output_type": "stream",
          "name": "stdout",
          "text": [
            "[('dogs', 7), ('cats', 10), ('horses', 5)]\n"
          ]
        }
      ]
    },
    {
      "cell_type": "code",
      "metadata": {
        "colab": {
          "base_uri": "https://localhost:8080/"
        },
        "id": "BF9ok00s_v2U",
        "outputId": "2a016fa1-b675-4ac2-a81c-cb9d47e5856a"
      },
      "source": [
        "#4 Write a function which takes a list of numbers as inputs and creates a dictionary where each number in the input list is a key, and the string version of the number is its value. For example: If the input was [1, 2, 3] the function should return {1: \"1\", 2: \"2\", 3: \"3\"}\n",
        "li = [1,2,3,4,5]\n",
        "\n",
        "def samekv(li):\n",
        "  d4 = {}\n",
        "  for i in li:\n",
        "    d4[i] = str(i)\n",
        "  return d4\n",
        "\n",
        "print(samekv(li))"
      ],
      "execution_count": 4,
      "outputs": [
        {
          "output_type": "stream",
          "name": "stdout",
          "text": [
            "{1: '1', 2: '2', 3: '3', 4: '4', 5: '5'}\n"
          ]
        }
      ]
    },
    {
      "cell_type": "code",
      "metadata": {
        "colab": {
          "base_uri": "https://localhost:8080/"
        },
        "id": "4AHBR2jN_xxx",
        "outputId": "b2f0618d-b2b6-4e0c-bb89-0531559f8e09"
      },
      "source": [
        "#5. Write a function which takes a dictionary as input and returns True if the dictionary contains any integer values, and False otherwise. (Note: the keys don't matter for this problem, only the values).\n",
        "d5 = {1: '1', 2: '2', 3: 3, 4: '4', 5: '5'}\n",
        "\n",
        "def isIntegers(d5):\n",
        "  for k,v in d5.items():\n",
        "    if type(v) == int:\n",
        "      print(\"True\")\n",
        "    else:\n",
        "      print(\"False\")\n",
        "\n",
        "print(isIntegers(d5))"
      ],
      "execution_count": 5,
      "outputs": [
        {
          "output_type": "stream",
          "name": "stdout",
          "text": [
            "False\n",
            "False\n",
            "True\n",
            "False\n",
            "False\n",
            "None\n"
          ]
        }
      ]
    },
    {
      "cell_type": "code",
      "metadata": {
        "colab": {
          "base_uri": "https://localhost:8080/"
        },
        "id": "lyqfJDuo_3MS",
        "outputId": "d2865614-7e62-4c0e-e44b-79a486425482"
      },
      "source": [
        "#6.Write a function which returns True if the dictionary is empty and False otherwise.\n",
        "D6 = {}\n",
        "\n",
        "def isDicEmpty(d):\n",
        "  if d:\n",
        "    print(\"True\")\n",
        "  else:\n",
        "    print(\"False\")\n",
        "\n",
        "print(isDicEmpty(D6))"
      ],
      "execution_count": 6,
      "outputs": [
        {
          "output_type": "stream",
          "name": "stdout",
          "text": [
            "False\n",
            "None\n"
          ]
        }
      ]
    },
    {
      "cell_type": "code",
      "metadata": {
        "colab": {
          "base_uri": "https://localhost:8080/"
        },
        "id": "_aHP2d46_-ZL",
        "outputId": "ab51fcbd-05ea-4a70-f598-2ae10ac44b9b"
      },
      "source": [
        "#7. Write a function which takes a list of characters as input and returns a list of tuples, where each tuple contains the character and the numeric unicode value for that character. (Hint: use ord() function to change a character into its numeric value). For example: If the input list was [\"a\", \"b\", \"X\", \"Z\"] the output would be [ (\"a\", 97), (\"b\", 98), (\"X\", 88), (\"Z\", 90) ]\n",
        "d7 = [\"a\",\"v\",\"m\",\"k\",\"r\"]\n",
        "\n",
        "def alphaAsci(d):\n",
        "  li = []\n",
        "  for i in d:\n",
        "    li.append((i,ord(i)))\n",
        "  return li\n",
        "\n",
        "print(alphaAsci(d7))"
      ],
      "execution_count": 7,
      "outputs": [
        {
          "output_type": "stream",
          "name": "stdout",
          "text": [
            "[('a', 97), ('v', 118), ('m', 109), ('k', 107), ('r', 114)]\n"
          ]
        }
      ]
    },
    {
      "cell_type": "code",
      "metadata": {
        "colab": {
          "base_uri": "https://localhost:8080/"
        },
        "id": "LM-3qJupAAy4",
        "outputId": "4698c506-b6bb-40a2-ee0a-af2375f9371b"
      },
      "source": [
        "#8. Write a function which takes a dictionary as input, where the values are integers. Return the key with the max value. For example: If the input is {\"apple\" : 6, \"orange\": 10, \"banana\":2, \"kiwi\" : 11 } the function should return \"kiwi\".\n",
        "d8 = {\"apple\" : 6, \"orange\": 10, \"banana\":2, \"kiwi\" : 11 } \n",
        "\n",
        "def dicmax(d):\n",
        "  r = [[v,k] for k,v in d.items()]\n",
        "  return max(r)[1]\n",
        "\n",
        "print(dicmax(d8))"
      ],
      "execution_count": 8,
      "outputs": [
        {
          "output_type": "stream",
          "name": "stdout",
          "text": [
            "kiwi\n"
          ]
        }
      ]
    },
    {
      "cell_type": "code",
      "metadata": {
        "colab": {
          "base_uri": "https://localhost:8080/"
        },
        "id": "OVUZz5BuAEwj",
        "outputId": "2ca039ea-442d-4b26-df3c-3c86cc7b48d7"
      },
      "source": [
        "#Bonus Question\n",
        "\n",
        "#1 Return the boolean True if both dictionaries have the same values for the same keys.\n",
        "eggs = {'name': 'Zophie', 'species': 'cat', 'age': '8'}\n",
        "ham = {'species': 'cat', 'age': '8', 'name': 'Zophie'}\n",
        "\n",
        "def isEqualDict(d1,d2,key):\n",
        "  if key in d1.keys() and key in d2.keys():\n",
        "    if d1[key]==d2[key]:\n",
        "      return \"True\"\n",
        "    else:\n",
        "      return \"Not The Same\"\n",
        "  else:\n",
        "    return \"One's empty\"\n",
        "\n",
        "print(isEqualDict(eggs,ham,'age'))"
      ],
      "execution_count": 9,
      "outputs": [
        {
          "output_type": "stream",
          "name": "stdout",
          "text": [
            "True\n"
          ]
        }
      ]
    }
  ]
}