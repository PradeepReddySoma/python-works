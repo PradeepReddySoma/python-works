{
  "nbformat": 4,
  "nbformat_minor": 0,
  "metadata": {
    "colab": {
      "name": "Homework: Dictionaries and TuplesOCt8.ipynb",
      "provenance": [],
      "collapsed_sections": [],
      "include_colab_link": true
    },
    "kernelspec": {
      "name": "python3",
      "display_name": "Python 3"
    },
    "language_info": {
      "name": "python"
    }
  },
  "cells": [
    {
      "cell_type": "markdown",
      "metadata": {
        "id": "view-in-github",
        "colab_type": "text"
      },
      "source": [
        "<a href=\"https://colab.research.google.com/github/PradeepReddySoma/python-works/blob/master/Homework_Dictionaries_and_TuplesOCt8.ipynb\" target=\"_parent\"><img src=\"https://colab.research.google.com/assets/colab-badge.svg\" alt=\"Open In Colab\"/></a>"
      ]
    },
    {
      "cell_type": "code",
      "metadata": {
        "colab": {
          "base_uri": "https://localhost:8080/"
        },
        "id": "nic29brLb7Th",
        "outputId": "539b658e-a3fa-4463-f525-23143e2f73d4"
      },
      "source": [
        "#code for program:1\n",
        "def has_duplicates(li):\n",
        "    dictionary = dict()   \n",
        "    for word in li:\n",
        "        if word in dictionary:\n",
        "            return True\n",
        "        dictionary[word] = True\n",
        "    return False\n",
        "\n",
        "li=[1,'a','b',2,1]    \n",
        "print('object(s) in the list is/are duplicated :',has_duplicates(li))"
      ],
      "execution_count": null,
      "outputs": [
        {
          "output_type": "stream",
          "name": "stdout",
          "text": [
            "object(s) in the list is/are duplicated : True\n"
          ]
        }
      ]
    },
    {
      "cell_type": "code",
      "metadata": {
        "id": "9fxpCo63YThh"
      },
      "source": [
        ""
      ],
      "execution_count": null,
      "outputs": []
    },
    {
      "cell_type": "code",
      "metadata": {
        "colab": {
          "base_uri": "https://localhost:8080/"
        },
        "id": "XUr6I9w-ZZa-",
        "outputId": "f7329f4c-4349-4081-9bbd-211dc062e002"
      },
      "source": [
        "#code for program:2\n",
        "def readingKeysInDict(test_string) :\n",
        " \n",
        "     res = test_string.split()\n",
        " \n",
        "     dictionary=dict.fromkeys(res,\"word\")\n",
        "     print(\"Storing as Keys in the dictionary : \",dictionary)\n",
        "\n",
        "     sampKey = input(\"Enter a string to check :\")\n",
        "     key2=str(sampKey)\n",
        "     if key2 in dictionary.keys():\n",
        "        print(f\"Yes, Key: '{key2}' exists in dictionary\")\n",
        "     else:\n",
        "        print(f\"No, Key: '{key2}' does not exists in dictionary\")\n",
        "\n",
        "test_string = \"pradeep soma is doing this job\"  \n",
        "print (\"The original string is : \" +  test_string)\n",
        "readingKeysInDict(test_string)    "
      ],
      "execution_count": null,
      "outputs": [
        {
          "output_type": "stream",
          "name": "stdout",
          "text": [
            "The original string is : pradeep soma is doing this job\n",
            "Storing as Keys in the dictionary :  {'pradeep': 'word', 'soma': 'word', 'is': 'word', 'doing': 'word', 'this': 'word', 'job': 'word'}\n",
            "Enter a string to check :job\n",
            "Yes, Key: 'job' exists in dictionary\n"
          ]
        }
      ]
    },
    {
      "cell_type": "code",
      "metadata": {
        "colab": {
          "base_uri": "https://localhost:8080/"
        },
        "id": "wn5WF9JlZnC1",
        "outputId": "55135534-7c02-43c5-e7e3-81153b1162bd"
      },
      "source": [
        "#code for program:3\n",
        "test_keys =  [\"this\", \"is\", \"my\", \"work\"]\n",
        "test_values = [5, 10, 15, 20]\n",
        "  \n",
        "def matchingTwoLists(test_keys,test_values):\n",
        "\n",
        "  # Printing original keys-value lists\n",
        "   print (\"Original key list is : \" + str(test_keys))\n",
        "   print (\"Original value list is : \" + str(test_values))\n",
        "   res = {}\n",
        "   for key in test_keys:\n",
        "       for value in test_values:\n",
        "           res[key] = value\n",
        "           test_values.remove(value)\n",
        "           break  \n",
        "  \n",
        "   # Printing resultant dictionary \n",
        "   print (\"Resultant dictionary is : \" +  str(res))\n",
        "\n",
        "\n",
        "matchingTwoLists(test_keys,test_values)"
      ],
      "execution_count": null,
      "outputs": [
        {
          "output_type": "stream",
          "name": "stdout",
          "text": [
            "Original key list is : ['this', 'is', 'my', 'work']\n",
            "Original value list is : [5, 10, 15, 20]\n",
            "Resultant dictionary is : {'this': 5, 'is': 10, 'my': 15, 'work': 20}\n"
          ]
        }
      ]
    },
    {
      "cell_type": "code",
      "metadata": {
        "colab": {
          "base_uri": "https://localhost:8080/"
        },
        "id": "BeP4twx-uBUc",
        "outputId": "ec49ec80-cfb2-4c53-e589-34542615c8d1"
      },
      "source": [
        "#code for program:4\n",
        "def sortingKeys(inpDict):\n",
        "  l=[]\n",
        "  for key in sorted(inpDict.keys()):\n",
        "    l.append(key)\n",
        "    # Sorting list in case-insensitive manner\n",
        "    alphaKeys = sorted(l, key = lambda s: s.casefold())   \n",
        "  return alphaKeys \n",
        "\n",
        "inpDict={\"animal\":10, \"car\":50, \"zoo\":500, \"Dog\" : 15}\n",
        "\n",
        "\n",
        "#Bonus\n",
        "#inpDict={\"aNiMal\":10, \"CaR\":50, \"ZOO\":500, \"doG\" : 15}\n",
        "\n",
        "print(\"original dictionary :\",inpDict)\n",
        "\n",
        "resList=sortingKeys(inpDict)\n",
        "print(\"List of keys sorted in Alphabetical order :\",resList)"
      ],
      "execution_count": null,
      "outputs": [
        {
          "output_type": "stream",
          "name": "stdout",
          "text": [
            "original dictionary : {'animal': 10, 'car': 50, 'zoo': 500, 'Dog': 15}\n",
            "List of keys sorted in Alphabetical order : ['animal', 'car', 'Dog', 'zoo']\n"
          ]
        }
      ]
    }
  ]
}