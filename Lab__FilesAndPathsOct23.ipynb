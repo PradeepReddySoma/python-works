{
  "nbformat": 4,
  "nbformat_minor": 0,
  "metadata": {
    "colab": {
      "name": "Lab_ FilesAndPathsOct23.ipynb",
      "provenance": [],
      "authorship_tag": "ABX9TyP26CAzWyQnRiQoIrXVgZwu",
      "include_colab_link": true
    },
    "kernelspec": {
      "name": "python3",
      "display_name": "Python 3"
    },
    "language_info": {
      "name": "python"
    }
  },
  "cells": [
    {
      "cell_type": "markdown",
      "metadata": {
        "id": "view-in-github",
        "colab_type": "text"
      },
      "source": [
        "<a href=\"https://colab.research.google.com/github/PradeepReddySoma/python-works/blob/master/Lab__FilesAndPathsOct23.ipynb\" target=\"_parent\"><img src=\"https://colab.research.google.com/assets/colab-badge.svg\" alt=\"Open In Colab\"/></a>"
      ]
    },
    {
      "cell_type": "code",
      "metadata": {
        "colab": {
          "base_uri": "https://localhost:8080/"
        },
        "id": "Q-qzr7XoO-uk",
        "outputId": "4e64513e-bd96-4a24-bef7-71cd3d6cae66"
      },
      "source": [
        "#importing os and path\n",
        "import os\n",
        "from pathlib import Path\n",
        "\n",
        "# 1.Print out the working directory path\n",
        "print(\"working directory path is\",os.getcwd())\n",
        "\n",
        "# 2.Confirm this path is an absolute path\n",
        "print(os.path.isabs(os.getcwd()))\n",
        "\n",
        "# 3.Make a new directory called \"question_3\"\n",
        "os.mkdir(\"question_3\")\n",
        "\n",
        "# 4.create a text file inside of question_3 directory\n",
        "file1 = open('question_3/question_3_quote.txt','a')\n",
        "\n",
        "# 5.Create a string variable and write it to the text file\n",
        "string_var = \"Eon to kill need chill and ton thrill\"\n",
        "file1.write(string_var)\n",
        "\n",
        "# 6.Create a variable that's a list of strings. Print each string in the list to the file on its own line.\n",
        "list_of_string = ['Eon','to','kill','need','chill','and','ton','thrill']\n",
        "for x,string in enumerate(list_of_string):\n",
        "    if x!=len(list_of_string)-1:\n",
        "        file1.write(f\"\\n{string}\")\n",
        "    else:\n",
        "        file1.write(f\"\\n{string}\\n\")"
      ],
      "execution_count": null,
      "outputs": [
        {
          "output_type": "stream",
          "name": "stdout",
          "text": [
            "working directory path is /content\n",
            "True\n"
          ]
        }
      ]
    },
    {
      "cell_type": "code",
      "metadata": {
        "colab": {
          "base_uri": "https://localhost:8080/"
        },
        "id": "aDXoE3jTPRBC",
        "outputId": "80b8eb41-d9a3-4bc3-b9d9-103e0889a28e"
      },
      "source": [
        "#importing pprint\n",
        "import pprint\n",
        "\n",
        "# 7.Create a variable that's a dictionary. Print a pretty text version of the dictionary to the file. (use pprint.pformat())\n",
        "dictionary_of_string = {i+1:j for i,j in enumerate(list_of_string)}\n",
        "file1.write(pprint.pformat(dictionary_of_string))\n",
        "#closing the file\n",
        "file1.close()\n",
        "\n",
        "# 8.Change the directory to your new folder from question 3\n",
        "os.chdir(\"question_3\")\n",
        "\n",
        "# 9.List all the files in this directory\n",
        "print(os.listdir())\n",
        "\n",
        "# 10.opening the newly created file\n",
        "file = open('question_3_quote.txt','r')\n",
        "# 10.reading the file\n",
        "print(file.read())\n",
        "#closing the file\n",
        "file.close()"
      ],
      "execution_count": null,
      "outputs": [
        {
          "output_type": "stream",
          "name": "stdout",
          "text": [
            "['question_3_quote.txt']\n",
            "Eon to kill need chill and ton thrill\n",
            "Eon\n",
            "to\n",
            "kill\n",
            "need\n",
            "chill\n",
            "and\n",
            "ton\n",
            "thrill\n",
            "{1: 'Eon',\n",
            " 2: 'to',\n",
            " 3: 'kill',\n",
            " 4: 'need',\n",
            " 5: 'chill',\n",
            " 6: 'and',\n",
            " 7: 'ton',\n",
            " 8: 'thrill'}\n"
          ]
        }
      ]
    }
  ]
}