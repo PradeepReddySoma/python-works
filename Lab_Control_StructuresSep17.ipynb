{
  "nbformat": 4,
  "nbformat_minor": 0,
  "metadata": {
    "colab": {
      "name": "Lab: Control StructuresSep17.ipynb",
      "provenance": [],
      "collapsed_sections": [],
      "include_colab_link": true
    },
    "kernelspec": {
      "name": "python3",
      "display_name": "Python 3"
    },
    "language_info": {
      "name": "python"
    }
  },
  "cells": [
    {
      "cell_type": "markdown",
      "metadata": {
        "id": "view-in-github",
        "colab_type": "text"
      },
      "source": [
        "<a href=\"https://colab.research.google.com/github/PradeepReddySoma/python-works/blob/master/Lab_Control_StructuresSep17.ipynb\" target=\"_parent\"><img src=\"https://colab.research.google.com/assets/colab-badge.svg\" alt=\"Open In Colab\"/></a>"
      ]
    },
    {
      "cell_type": "markdown",
      "metadata": {
        "id": "ujMwblu3mesh"
      },
      "source": [
        "#Lab: Control Structures\n",
        "#ANSWER 1\n",
        "The Six Comparison operators are Less than(<), Greater than(>), Less than or Equal to(<=), Greater than or equal to(>=), Equal to(==), Not equal to(!=)"
      ]
    },
    {
      "cell_type": "code",
      "metadata": {
        "colab": {
          "base_uri": "https://localhost:8080/"
        },
        "id": "U-QH3s3foYRD",
        "outputId": "512fc47d-cc33-417a-a64e-65913dbcbf55"
      },
      "source": [
        "#ANSWER 2\n",
        "spam = int(input())\n",
        "\n",
        "if spam == 1:\n",
        "    print('Hello')\n",
        "elif spam == 2:\n",
        "    print('Howdy')\n",
        "else:\n",
        "    print('Greetings!')"
      ],
      "execution_count": null,
      "outputs": [
        {
          "output_type": "stream",
          "name": "stdout",
          "text": [
            "3\n",
            "Greetings!\n"
          ]
        }
      ]
    },
    {
      "cell_type": "markdown",
      "metadata": {
        "id": "OBZm2601rjEg"
      },
      "source": [
        "#ANSWER 3\n",
        "The range() function returns a sequence of numbers, starting from 0 by default, and increments by 1 by default, and ends at one less than specified number .\n",
        "\n",
        "range(10)    gives the sequence of numbers from 0 to 9 .\n",
        "\n",
        "range(0,10), though range() function starts with 0 by default we can specify  \n",
        "             the start number with the first parameter .range(0, 10), which   \n",
        "             means values from 0 to 10 (but not including 10) .\n",
        "\n",
        "range(0,10,1) range() functions increments the sequence by 1 by default,\n",
        "            but we can specify the increment value by adding a third \n",
        "             parameter .         "
      ]
    },
    {
      "cell_type": "code",
      "metadata": {
        "colab": {
          "base_uri": "https://localhost:8080/"
        },
        "id": "jVvJqYuJzAYC",
        "outputId": "8fb21cc7-f2a8-4717-9186-97ffbfb9a369"
      },
      "source": [
        "#ANSWER 4\n",
        "#using for loop to print numbers from 1 to 10\n",
        "#for i in range(1, 11):\n",
        "#    print(i)\n",
        "\n",
        "#using or loop to print numbers from 1 to 10\n",
        "i = 1\n",
        "while(i<=10):\n",
        "    print(i)\n",
        "    i += 1\n"
      ],
      "execution_count": null,
      "outputs": [
        {
          "output_type": "stream",
          "name": "stdout",
          "text": [
            "1\n",
            "2\n",
            "3\n",
            "4\n",
            "5\n",
            "6\n",
            "7\n",
            "8\n",
            "9\n",
            "10\n"
          ]
        }
      ]
    },
    {
      "cell_type": "markdown",
      "metadata": {
        "id": "ckv_t1nt5AOE"
      },
      "source": [
        "#ANSWER 5\n",
        "break statement in the Python  stops the loop in which the break statement is placed.\n",
        "\n",
        "A Python continue statement skips a single iteration in a loop.\n",
        "\n",
        "Both break and continue statements can be used in a for or a while loop."
      ]
    },
    {
      "cell_type": "markdown",
      "metadata": {
        "id": "RkGzBeIE7PXF"
      },
      "source": [
        "#ANSWER 6\n",
        "The round(number, digits) function returns a floating point number that is a rounded version of the specified number, with the specified number of decimals.\n",
        "number -\tRequired. The number to be rounded\n",
        "digits -\tOptional. The number of decimals to use when rounding the number. Default is 0 .\n",
        "\n",
        "The abs() method returns the absolute value of a number. The absolute value of a number is the number's distance from 0. The function converts negative numbers to positive numbers while positive numbers remain unaffected."
      ]
    },
    {
      "cell_type": "markdown",
      "metadata": {
        "id": "fiStcFUfUk6c"
      },
      "source": [
        "#ANSWER 7\n",
        "The Following expressions evaluate to\n",
        "\n",
        "(5 > 4) and (3 == 5) ==> False because 'and' operator gives the result as False if any of the operands is false\n",
        "\n",
        "not (5 > 4) ==>not(True) ==>False\n",
        "\n",
        "(5 > 4) or (3 == 5) ==> True or False ==>True, because if any of the operands is true ,result will be true if the operator is 'or'\n",
        "\n",
        "not ((5 > 4) or (3 == 5)) ==>not(True or False) ==>not(True) ==> False\n",
        "\n",
        "(True and True) and (True == False) ==> True and False ==> False\n",
        "\n",
        "(not False) or (not True) ==> True or False ==> True"
      ]
    },
    {
      "cell_type": "markdown",
      "metadata": {
        "id": "X9oxKwMVccGS"
      },
      "source": [
        "#ANSWER 8\n",
        "I would call the function as spam. bacon()"
      ]
    }
  ]
}