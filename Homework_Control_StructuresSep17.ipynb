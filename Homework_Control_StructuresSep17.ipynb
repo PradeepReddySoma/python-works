{
  "nbformat": 4,
  "nbformat_minor": 0,
  "metadata": {
    "colab": {
      "name": "Homework: Control StructuresSep17.ipynb",
      "provenance": [],
      "collapsed_sections": [],
      "include_colab_link": true
    },
    "kernelspec": {
      "name": "python3",
      "display_name": "Python 3"
    },
    "language_info": {
      "name": "python"
    }
  },
  "cells": [
    {
      "cell_type": "markdown",
      "metadata": {
        "id": "view-in-github",
        "colab_type": "text"
      },
      "source": [
        "<a href=\"https://colab.research.google.com/github/PradeepReddySoma/python-works/blob/master/Homework_Control_StructuresSep17.ipynb\" target=\"_parent\"><img src=\"https://colab.research.google.com/assets/colab-badge.svg\" alt=\"Open In Colab\"/></a>"
      ]
    },
    {
      "cell_type": "code",
      "metadata": {
        "colab": {
          "base_uri": "https://localhost:8080/"
        },
        "id": "uQL7BR32daqx",
        "outputId": "711760f7-7765-4225-e65f-8d3c2503424a"
      },
      "source": [
        "#NLTK chapter 4 Number 7\n",
        "#string = \"\" \n",
        "string = \"pradeep\"\n",
        "if string:   \n",
        "   print(True) \n",
        "else:   \n",
        "   print(False)\n",
        "#list1 = [] \n",
        "list1 = [1,2] \n",
        "if list1:   \n",
        "   print(True) \n",
        "else:   \n",
        "   print(False) "
      ],
      "execution_count": null,
      "outputs": [
        {
          "output_type": "stream",
          "name": "stdout",
          "text": [
            "True\n",
            "True\n"
          ]
        }
      ]
    },
    {
      "cell_type": "code",
      "metadata": {
        "colab": {
          "base_uri": "https://localhost:8080/"
        },
        "id": "z7JQmf7vYoGm",
        "outputId": "ca4a5b67-68eb-455c-b945-d856ab2838f7"
      },
      "source": [
        "#Number 11 \n",
        "sent1=['pradeep','reddy','soma']\n",
        "#print(sent1)\n",
        "sent2 = sent1\n",
        "sent1[2]='sher'\n",
        "#print(sent1)\n",
        "#print(sent2)\n",
        "\n",
        "#ANSWER for 11.a\n",
        "sent2 = sent1[:]\n",
        "sent1[1]='reddi'\n",
        "print(sent2)"
      ],
      "execution_count": null,
      "outputs": [
        {
          "output_type": "stream",
          "name": "stdout",
          "text": [
            "['pradeep', 'reddy', 'sher']\n"
          ]
        }
      ]
    },
    {
      "cell_type": "markdown",
      "metadata": {
        "id": "MZcC7v0lYz6z"
      },
      "source": [
        "When you copy a list via [:] it performs a shallow copy. This means each element of the list remains the same in the copied version.Here it's just copying the object references inside the list. not the object reference to the list itself.\n"
      ]
    },
    {
      "cell_type": "code",
      "metadata": {
        "colab": {
          "base_uri": "https://localhost:8080/"
        },
        "id": "IUK46B0hY9bo",
        "outputId": "3c7e823a-1af3-4db2-9841-ebed521fe31c"
      },
      "source": [
        "#ANSWER for 11.b\n",
        "text1=[['Pradeep','white'],\n",
        "           ['Karan', 'black'],\n",
        "           ['Alice', 'purple']]\n",
        "text2 = text1[:]\n",
        "text1[1][1] = 'Blue'\n",
        "print(text2)"
      ],
      "execution_count": null,
      "outputs": [
        {
          "output_type": "stream",
          "name": "stdout",
          "text": [
            "[['Pradeep', 'white'], ['Karan', 'Blue'], ['Alice', 'purple']]\n"
          ]
        }
      ]
    },
    {
      "cell_type": "markdown",
      "metadata": {
        "id": "ml8E9vdlZEN8"
      },
      "source": [
        "In a case of a list-of-lists, you will get a new copy of the outer list, but it will contain the original inner lists as its elements."
      ]
    },
    {
      "cell_type": "code",
      "metadata": {
        "colab": {
          "base_uri": "https://localhost:8080/"
        },
        "id": "G1-DUJ--ZOuS",
        "outputId": "9d5c0197-f9c9-469c-c6ee-1e292ebc1879"
      },
      "source": [
        "#ANSWER for 11.c\n",
        "# importing copy module\n",
        "import copy\n",
        "  \n",
        "# initializing list 1 \n",
        "li1 = [1, 2, [3,5], 4]\n",
        "  \n",
        "print('li1 =',li1)\n",
        "  \n",
        "# using deepcopy to prove it makes a fresh copy  \n",
        "li3 = copy.deepcopy(li1) \n",
        "li3[2][1]=7\n",
        "\n",
        "print('li1 =',li1)\n",
        "\n",
        "print('li3 =',li3)"
      ],
      "execution_count": null,
      "outputs": [
        {
          "output_type": "stream",
          "name": "stdout",
          "text": [
            "li1 = [1, 2, [3, 5], 4]\n",
            "li1 = [1, 2, [3, 5], 4]\n",
            "li3 = [1, 2, [3, 7], 4]\n"
          ]
        }
      ]
    },
    {
      "cell_type": "markdown",
      "metadata": {
        "id": "OXolTb5xZZSC"
      },
      "source": [
        "Here in the above program, it is evident that deepcopy() is making a fresh copy of the object ."
      ]
    },
    {
      "cell_type": "code",
      "metadata": {
        "colab": {
          "base_uri": "https://localhost:8080/"
        },
        "id": "eFA-5kOpZgwX",
        "outputId": "8dc4a872-3cd6-4768-f757-d2eca2d7bbb5"
      },
      "source": [
        "#ANSWER for 15\n",
        "# Python code to find frequency of each word\n",
        "def freq(str):\n",
        "  \n",
        "    # break the string into list of words \n",
        "    str = str.split()         \n",
        "    str2 = []\n",
        "  \n",
        "    # loop till string values present in list str\n",
        "    for i in str:             \n",
        "  \n",
        "        # checking for the duplicacy\n",
        "        if i not in str2:\n",
        "  \n",
        "            # insert value in str2\n",
        "            str2.append(i) \n",
        "              \n",
        "    for i in range(0, len(str2)):\n",
        "  \n",
        "        # count the frequency of each word(present \n",
        "        # in str2) in str and print\n",
        "        print('Frequency of', str2[i], 'is :', str.count(str2[i]))    \n",
        "  \n",
        "def main():\n",
        "    str ='apple guava mango apple  orange orange apple mango mango'\n",
        "    freq(str)                    \n",
        "  \n",
        "if __name__==\"__main__\":\n",
        "    main()             # call main function"
      ],
      "execution_count": null,
      "outputs": [
        {
          "output_type": "stream",
          "name": "stdout",
          "text": [
            "Frequency of apple is : 3\n",
            "Frequency of guava is : 1\n",
            "Frequency of mango is : 3\n",
            "Frequency of orange is : 2\n"
          ]
        }
      ]
    }
  ]
}