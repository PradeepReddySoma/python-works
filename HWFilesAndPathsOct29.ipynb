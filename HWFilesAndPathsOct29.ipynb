{
  "nbformat": 4,
  "nbformat_minor": 0,
  "metadata": {
    "colab": {
      "name": "HWFilesAndPathsOct29.ipynb",
      "provenance": [],
      "collapsed_sections": [],
      "authorship_tag": "ABX9TyOouyav82fMcZKJGEwD7YCF",
      "include_colab_link": true
    },
    "kernelspec": {
      "name": "python3",
      "display_name": "Python 3"
    },
    "language_info": {
      "name": "python"
    }
  },
  "cells": [
    {
      "cell_type": "markdown",
      "metadata": {
        "id": "view-in-github",
        "colab_type": "text"
      },
      "source": [
        "<a href=\"https://colab.research.google.com/github/PradeepReddySoma/python-works/blob/master/HWFilesAndPathsOct29.ipynb\" target=\"_parent\"><img src=\"https://colab.research.google.com/assets/colab-badge.svg\" alt=\"Open In Colab\"/></a>"
      ]
    },
    {
      "cell_type": "code",
      "metadata": {
        "colab": {
          "base_uri": "https://localhost:8080/"
        },
        "id": "Y1PIg8H2EiN2",
        "outputId": "650f6078-f8eb-4212-8f18-6acfda3c44ca"
      },
      "source": [
        "#1.Create a directory called \"class_files\" and inside of it make a directory called \"texts\"\n",
        "import os\n",
        "absOfTexts=os.path.abspath(\"class_files/texts\")\n",
        "#2.Print the absolute path for the \"texts\" directory\n",
        "print(absOfTexts)\n"
      ],
      "execution_count": null,
      "outputs": [
        {
          "output_type": "stream",
          "name": "stdout",
          "text": [
            "/content/class_files/texts\n"
          ]
        }
      ]
    },
    {
      "cell_type": "markdown",
      "metadata": {
        "id": "IXt-vAMAwmC5"
      },
      "source": [
        "#3.download 2 text files from gutenberg.org and place them in the \"texts\" #directory inside of \"class_files\"\n",
        "\"pg66598.txt\" and \"4980-0.txt\" are the two text files that I've downloaded and placed in the texts directory inside of class_files"
      ]
    },
    {
      "cell_type": "code",
      "metadata": {
        "colab": {
          "base_uri": "https://localhost:8080/"
        },
        "id": "S6Z6XNBjMWmC",
        "outputId": "22520064-2689-468a-a5b6-33e207333de3"
      },
      "source": [
        "#4.Print the absolute path of each file in \"texts\". Then use glob to print out all file names in the directory.\n",
        "import os\n",
        "absOfFirst = os.path.abspath(\"class_files/texts/pg66598.txt\")\n",
        "absOfSecond = os.path.abspath(\"class_files/texts/4980-0.txt\")\n",
        "print(absOfFirst)\n",
        "print(absOfSecond)"
      ],
      "execution_count": null,
      "outputs": [
        {
          "output_type": "stream",
          "name": "stdout",
          "text": [
            "/content/class_files/texts/pg66598.txt\n",
            "/content/class_files/texts/4980-0.txt\n"
          ]
        }
      ]
    },
    {
      "cell_type": "code",
      "metadata": {
        "colab": {
          "base_uri": "https://localhost:8080/"
        },
        "id": "ek6aNVLI4K8U",
        "outputId": "449549a8-4440-40d4-b644-c8feab346a32"
      },
      "source": [
        "import os\n",
        "import glob\n",
        "file_list = glob.glob(\"class_files/texts/*\")\n",
        "print(file_list)"
      ],
      "execution_count": null,
      "outputs": [
        {
          "output_type": "stream",
          "name": "stdout",
          "text": [
            "[]\n"
          ]
        }
      ]
    },
    {
      "cell_type": "code",
      "metadata": {
        "colab": {
          "base_uri": "https://localhost:8080/"
        },
        "id": "96RUFyvOwtCz",
        "outputId": "48ca0eed-2564-48a5-b106-6828f43d1d17"
      },
      "source": [
        "#5.Print the size in bytes of the \"texts\" directory\n",
        "size=os.path.getsize('class_files/texts')\n",
        "print('size of the '+'\"'+'texts'+'\"'+' directory in bytes :',size)"
      ],
      "execution_count": null,
      "outputs": [
        {
          "output_type": "stream",
          "name": "stdout",
          "text": [
            "size of the \"texts\" directory in bytes : 4096\n"
          ]
        }
      ]
    },
    {
      "cell_type": "code",
      "metadata": {
        "colab": {
          "base_uri": "https://localhost:8080/",
          "height": 235
        },
        "id": "x29ngHVYxTty",
        "outputId": "b91e8780-ba5e-4359-cbc2-1cfb13d98cdf"
      },
      "source": [
        "#Part-2\n",
        "#1.Using your directory and texts from part one, open each text file in \"texts\"\n",
        "from pathlib import Path\n",
        "\n",
        "data_folder = Path(\"class_files/texts\")\n",
        "file_to_open1 = data_folder / \"pg66598.txt\"\n",
        "file_to_open2 = data_folder / \"4980-0.txt\"\n",
        "\n",
        "f1 = open(file_to_open1)\n",
        "f2 = open(file_to_open2)\n",
        "print(f1.read())\n",
        "print(f2.read())"
      ],
      "execution_count": null,
      "outputs": [
        {
          "output_type": "error",
          "ename": "FileNotFoundError",
          "evalue": "ignored",
          "traceback": [
            "\u001b[0;31m---------------------------------------------------------------------------\u001b[0m",
            "\u001b[0;31mFileNotFoundError\u001b[0m                         Traceback (most recent call last)",
            "\u001b[0;32m<ipython-input-20-3439c33ea949>\u001b[0m in \u001b[0;36m<module>\u001b[0;34m()\u001b[0m\n\u001b[1;32m      7\u001b[0m \u001b[0mfile_to_open2\u001b[0m \u001b[0;34m=\u001b[0m \u001b[0mdata_folder\u001b[0m \u001b[0;34m/\u001b[0m \u001b[0;34m\"4980-0.txt\"\u001b[0m\u001b[0;34m\u001b[0m\u001b[0;34m\u001b[0m\u001b[0m\n\u001b[1;32m      8\u001b[0m \u001b[0;34m\u001b[0m\u001b[0m\n\u001b[0;32m----> 9\u001b[0;31m \u001b[0mf1\u001b[0m \u001b[0;34m=\u001b[0m \u001b[0mopen\u001b[0m\u001b[0;34m(\u001b[0m\u001b[0mfile_to_open1\u001b[0m\u001b[0;34m)\u001b[0m\u001b[0;34m\u001b[0m\u001b[0;34m\u001b[0m\u001b[0m\n\u001b[0m\u001b[1;32m     10\u001b[0m \u001b[0mf2\u001b[0m \u001b[0;34m=\u001b[0m \u001b[0mopen\u001b[0m\u001b[0;34m(\u001b[0m\u001b[0mfile_to_open2\u001b[0m\u001b[0;34m)\u001b[0m\u001b[0;34m\u001b[0m\u001b[0;34m\u001b[0m\u001b[0m\n\u001b[1;32m     11\u001b[0m \u001b[0mprint\u001b[0m\u001b[0;34m(\u001b[0m\u001b[0mf1\u001b[0m\u001b[0;34m.\u001b[0m\u001b[0mread\u001b[0m\u001b[0;34m(\u001b[0m\u001b[0;34m)\u001b[0m\u001b[0;34m)\u001b[0m\u001b[0;34m\u001b[0m\u001b[0;34m\u001b[0m\u001b[0m\n",
            "\u001b[0;31mFileNotFoundError\u001b[0m: [Errno 2] No such file or directory: 'class_files/texts/pg66598.txt'"
          ]
        }
      ]
    },
    {
      "cell_type": "code",
      "metadata": {
        "id": "SPbbF16p6fal"
      },
      "source": [
        "#2.Read in each text file as a long string and store the contents to a variable. Then close the file.\n",
        "def file_read(fname):\n",
        "        file=open (fname, \"r\")\n",
        "        with file as myfile:\n",
        "                data=myfile.read()\n",
        "                print(data)\n",
        "        file.close() \n",
        "\n",
        "file_read(\"\"\"class_files/texts/pg66598.txt\"\"\")  \n",
        "file_read(\"\"\"class_files/texts/4980-0.txt\"\"\") "
      ],
      "execution_count": null,
      "outputs": []
    },
    {
      "cell_type": "code",
      "metadata": {
        "colab": {
          "base_uri": "https://localhost:8080/",
          "height": 235
        },
        "id": "o_RutXgWQr_9",
        "outputId": "b02e7692-cdd4-44c8-dd21-c45132814fd3"
      },
      "source": [
        "#3.Print the length in characters of each file\n",
        "open_file1=open(\"class_files/texts/pg66598.txt\")\n",
        "open_file2=open(\"class_files/texts/4980-0.txt\")\n",
        "\n",
        "read_File1=open_file1.read()\n",
        "read_File2=open_file2.read()\n",
        "\n",
        "lenFile1=len(read_File1)\n",
        "lenFile2=len(read_File2)\n",
        "\n",
        "print(\"length in characters of the file pg66598.txt is\",lenFile1)\n",
        "print(\"length in characters of the file 4980-0.txt is\",lenFile2)"
      ],
      "execution_count": null,
      "outputs": [
        {
          "output_type": "error",
          "ename": "FileNotFoundError",
          "evalue": "ignored",
          "traceback": [
            "\u001b[0;31m---------------------------------------------------------------------------\u001b[0m",
            "\u001b[0;31mFileNotFoundError\u001b[0m                         Traceback (most recent call last)",
            "\u001b[0;32m<ipython-input-15-87edd3af0cef>\u001b[0m in \u001b[0;36m<module>\u001b[0;34m()\u001b[0m\n\u001b[1;32m      1\u001b[0m \u001b[0;31m#3\u001b[0m\u001b[0;34m\u001b[0m\u001b[0;34m\u001b[0m\u001b[0;34m\u001b[0m\u001b[0m\n\u001b[0;32m----> 2\u001b[0;31m \u001b[0mopen_file1\u001b[0m\u001b[0;34m=\u001b[0m\u001b[0mopen\u001b[0m\u001b[0;34m(\u001b[0m\u001b[0;34m\"class_files/texts/pg66598.txt\"\u001b[0m\u001b[0;34m)\u001b[0m\u001b[0;34m\u001b[0m\u001b[0;34m\u001b[0m\u001b[0m\n\u001b[0m\u001b[1;32m      3\u001b[0m \u001b[0mopen_file2\u001b[0m\u001b[0;34m=\u001b[0m\u001b[0mopen\u001b[0m\u001b[0;34m(\u001b[0m\u001b[0;34m\"class_files/texts/4980-0.txt\"\u001b[0m\u001b[0;34m)\u001b[0m\u001b[0;34m\u001b[0m\u001b[0;34m\u001b[0m\u001b[0m\n\u001b[1;32m      4\u001b[0m \u001b[0;34m\u001b[0m\u001b[0m\n\u001b[1;32m      5\u001b[0m \u001b[0mread_File1\u001b[0m\u001b[0;34m=\u001b[0m\u001b[0mopen_file1\u001b[0m\u001b[0;34m.\u001b[0m\u001b[0mread\u001b[0m\u001b[0;34m(\u001b[0m\u001b[0;34m)\u001b[0m\u001b[0;34m\u001b[0m\u001b[0;34m\u001b[0m\u001b[0m\n",
            "\u001b[0;31mFileNotFoundError\u001b[0m: [Errno 2] No such file or directory: 'class_files/texts/pg66598.txt'"
          ]
        }
      ]
    },
    {
      "cell_type": "code",
      "metadata": {
        "id": "06kUl-KJWSfL"
      },
      "source": [
        "#4.Split the strings from part 2 on whitespace and store that list to a variable name.\n",
        "open_file1=open(\"class_files/texts/pg66598.txt\")\n",
        "open_file2=open(\"class_files/texts/4980-0.txt\")\n",
        "\n",
        "read_File1=open_file1.read()\n",
        "read_File2=open_file2.read()\n",
        "\n",
        "splFile1=read_File1.split()\n",
        "splFile2=read_File2.split()\n",
        "\n",
        "List1=list(splFile1)\n",
        "List2=list(splFile2)\n",
        "\n",
        "print(List1)\n",
        "print(List2)"
      ],
      "execution_count": null,
      "outputs": []
    },
    {
      "cell_type": "code",
      "metadata": {
        "id": "5SLVrktOl96O"
      },
      "source": [
        "#5.Print the length of the list of words in the text\n",
        "open_file1=open(\"class_files/texts/pg66598.txt\")\n",
        "open_file2=open(\"class_files/texts/4980-0.txt\")\n",
        "\n",
        "read_File1=open_file1.read()\n",
        "read_File2=open_file2.read()\n",
        "\n",
        "splFile1=read_File1.split()\n",
        "splFile2=read_File2.split()\n",
        "\n",
        "List1=list(splFile1)\n",
        "List2=list(splFile2)\n",
        "\n",
        "print(len(List1))\n",
        "print(len(List2))"
      ],
      "execution_count": null,
      "outputs": []
    },
    {
      "cell_type": "code",
      "metadata": {
        "id": "qmWSH2_Ezu6V"
      },
      "source": [
        "#Bonus questiom.For each of your text files: change every word to upper case, then write the contents back onto the text file.\n",
        "with open('class_files/texts/pg66598.txt' , 'r') as input:\n",
        "    y = input.read().upper()\n",
        "with open('class_files/texts/pg66598.txt', 'w') as out:\n",
        "    out.write(y)\n",
        "\n",
        "with open('class_files/texts/4980-0.txt' , 'r') as input:\n",
        "    y = input.read().upper()\n",
        "with open('class_files/texts/4980-0.txt', 'w') as out:\n",
        "    out.write(y)    "
      ],
      "execution_count": null,
      "outputs": []
    }
  ]
}