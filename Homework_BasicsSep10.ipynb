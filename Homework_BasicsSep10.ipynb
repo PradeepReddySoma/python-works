{
  "nbformat": 4,
  "nbformat_minor": 0,
  "metadata": {
    "colab": {
      "name": "Homework: BasicsSep10.ipynb",
      "provenance": [],
      "collapsed_sections": [],
      "include_colab_link": true
    },
    "kernelspec": {
      "name": "python3",
      "display_name": "Python 3"
    },
    "language_info": {
      "name": "python"
    }
  },
  "cells": [
    {
      "cell_type": "markdown",
      "metadata": {
        "id": "view-in-github",
        "colab_type": "text"
      },
      "source": [
        "<a href=\"https://colab.research.google.com/github/PradeepReddySoma/python-works/blob/master/Homework_BasicsSep10.ipynb\" target=\"_parent\"><img src=\"https://colab.research.google.com/assets/colab-badge.svg\" alt=\"Open In Colab\"/></a>"
      ]
    },
    {
      "cell_type": "markdown",
      "metadata": {
        "id": "Xi1Krtiw8iyh"
      },
      "source": [
        ""
      ]
    },
    {
      "cell_type": "code",
      "metadata": {
        "id": "vvgz5GVyK3AH"
      },
      "source": [
        "#Exercise 2.2 starts here\n",
        "width = 17\n",
        "height = 12.0\n",
        "delimiter = '.'"
      ],
      "execution_count": null,
      "outputs": []
    },
    {
      "cell_type": "code",
      "metadata": {
        "colab": {
          "base_uri": "https://localhost:8080/"
        },
        "id": "b-vkp-BLawQT",
        "outputId": "50bc9d30-6d11-4e35-e6b7-b789c39fbed6"
      },
      "source": [
        "#answer for first que\n",
        "print(width/2)\n",
        "type(width/2)"
      ],
      "execution_count": null,
      "outputs": [
        {
          "output_type": "stream",
          "name": "stdout",
          "text": [
            "8.5\n"
          ]
        },
        {
          "output_type": "execute_result",
          "data": {
            "text/plain": [
              "float"
            ]
          },
          "metadata": {},
          "execution_count": 80
        }
      ]
    },
    {
      "cell_type": "code",
      "metadata": {
        "colab": {
          "base_uri": "https://localhost:8080/"
        },
        "id": "d23VAhZ0cBpK",
        "outputId": "74f91dc3-1200-4f6d-d334-c48d2444a546"
      },
      "source": [
        "#answer for second que\n",
        "print(width/2.0)\n",
        "type(width/2.0)"
      ],
      "execution_count": null,
      "outputs": [
        {
          "output_type": "stream",
          "name": "stdout",
          "text": [
            "8.5\n"
          ]
        },
        {
          "output_type": "execute_result",
          "data": {
            "text/plain": [
              "float"
            ]
          },
          "metadata": {},
          "execution_count": 76
        }
      ]
    },
    {
      "cell_type": "code",
      "metadata": {
        "colab": {
          "base_uri": "https://localhost:8080/"
        },
        "id": "zslGUikdcp3t",
        "outputId": "6cafebac-fbe6-47d6-d8fd-d298c78754aa"
      },
      "source": [
        "#answer for third que\n",
        "print(height/3)\n",
        "type(height/3)"
      ],
      "execution_count": null,
      "outputs": [
        {
          "output_type": "stream",
          "name": "stdout",
          "text": [
            "4.0\n"
          ]
        },
        {
          "output_type": "execute_result",
          "data": {
            "text/plain": [
              "float"
            ]
          },
          "metadata": {},
          "execution_count": 78
        }
      ]
    },
    {
      "cell_type": "code",
      "metadata": {
        "colab": {
          "base_uri": "https://localhost:8080/"
        },
        "id": "iFPgUvs4ezxI",
        "outputId": "152b67e9-0461-4eea-9a0b-654f2809a736"
      },
      "source": [
        "#answer for fourth que\n",
        "print(1 + 2 * 5)\n",
        "type(1 + 2 * 5)"
      ],
      "execution_count": null,
      "outputs": [
        {
          "output_type": "stream",
          "name": "stdout",
          "text": [
            "11\n"
          ]
        },
        {
          "output_type": "execute_result",
          "data": {
            "text/plain": [
              "int"
            ]
          },
          "metadata": {},
          "execution_count": 83
        }
      ]
    },
    {
      "cell_type": "code",
      "metadata": {
        "colab": {
          "base_uri": "https://localhost:8080/"
        },
        "id": "ubplYF0BfM_D",
        "outputId": "a8de0f62-4888-4a5f-ac15-0a2dc4b0bbd5"
      },
      "source": [
        "#answer for fifth que\n",
        "print(delimiter * 5)\n",
        "type(delimiter * 5)\n",
        "#Exercise 2.2 is completed"
      ],
      "execution_count": null,
      "outputs": [
        {
          "output_type": "stream",
          "name": "stdout",
          "text": [
            ".....\n"
          ]
        },
        {
          "output_type": "execute_result",
          "data": {
            "text/plain": [
              "str"
            ]
          },
          "metadata": {},
          "execution_count": 87
        }
      ]
    },
    {
      "cell_type": "code",
      "metadata": {
        "colab": {
          "base_uri": "https://localhost:8080/"
        },
        "id": "M7P8uUU8gjg8",
        "outputId": "e54f1abd-9bd8-4ff4-9b36-58189278d6ce"
      },
      "source": [
        "#Exercise 2.3 starts here\n",
        "#answer for first que\n",
        "import math\n",
        "radius=5\n",
        "volume=4/3*(math.pi)*(radius**3)\n",
        "print ('volume of a sphere is ',volume)"
      ],
      "execution_count": null,
      "outputs": [
        {
          "output_type": "stream",
          "name": "stdout",
          "text": [
            "volume of a sphere is  523.5987755982989\n"
          ]
        }
      ]
    },
    {
      "cell_type": "code",
      "metadata": {
        "colab": {
          "base_uri": "https://localhost:8080/"
        },
        "id": "NpvpaMQSuG5Q",
        "outputId": "1422b3b6-897b-4488-89a2-2f42fa50bf2b"
      },
      "source": [
        "#answer for second que\n",
        "price = 24.95\n",
        "discount = price * (40/100)\n",
        "disc_price = price - discount\n",
        "shipping = 3 + (0.75 * (60 - 1))\n",
        "wholesale = disc_price * 60 + shipping\n",
        "print(wholesale)"
      ],
      "execution_count": null,
      "outputs": [
        {
          "output_type": "stream",
          "name": "stdout",
          "text": [
            "945.4499999999999\n"
          ]
        }
      ]
    },
    {
      "cell_type": "code",
      "metadata": {
        "colab": {
          "base_uri": "https://localhost:8080/"
        },
        "id": "wG7uLvrpPMYS",
        "outputId": "687e39b9-bf1d-4c65-cd7f-1ddec7a20236"
      },
      "source": [
        "#answer for third que\n",
        "SECONDS = 1\n",
        "MINUTES = 60*SECONDS\n",
        "HOURS = 60*MINUTES\n",
        "\n",
        "# All these results are in seconds\n",
        "time_left_house = 6 * HOURS + 52 * MINUTES\n",
        "miles_run_easy_pace = 2 * (8*MINUTES + 15*SECONDS)\n",
        "miles_run_fast_pace = 3 * (7*MINUTES + 12*SECONDS)\n",
        "total_time_run = miles_run_easy_pace + miles_run_fast_pace + time_left_house\n",
        "\n",
        "# So we now have a big number of seconds to split into hours/minutes/seconds\n",
        "hours = total_time_run // HOURS\n",
        "\n",
        "# the left over part is minutes and seconds (still in seconds)\n",
        "part_hour = total_time_run % HOURS\n",
        "minutes = part_hour // MINUTES\n",
        "seconds = part_hour % MINUTES\n",
        "\n",
        "print(\"Total time run: {}, Hours: {}, Minutes: {}, Seconds: {}\".format(\n",
        "    total_time_run, hours, minutes, seconds))\n",
        "#Excercise 2.3 ends here"
      ],
      "execution_count": null,
      "outputs": [
        {
          "output_type": "stream",
          "name": "stdout",
          "text": [
            "Total time run: 27006, Hours: 7, Minutes: 30, Seconds: 6\n"
          ]
        }
      ]
    }
  ]
}