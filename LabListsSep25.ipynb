{
  "nbformat": 4,
  "nbformat_minor": 0,
  "metadata": {
    "colab": {
      "name": "LabListsSep25.ipynb",
      "provenance": [],
      "collapsed_sections": [],
      "include_colab_link": true
    },
    "kernelspec": {
      "name": "python3",
      "display_name": "Python 3"
    },
    "language_info": {
      "name": "python"
    }
  },
  "cells": [
    {
      "cell_type": "markdown",
      "metadata": {
        "id": "view-in-github",
        "colab_type": "text"
      },
      "source": [
        "<a href=\"https://colab.research.google.com/github/PradeepReddySoma/python-works/blob/master/LabListsSep25.ipynb\" target=\"_parent\"><img src=\"https://colab.research.google.com/assets/colab-badge.svg\" alt=\"Open In Colab\"/></a>"
      ]
    },
    {
      "cell_type": "code",
      "metadata": {
        "colab": {
          "base_uri": "https://localhost:8080/"
        },
        "id": "jcE0DmIIO5JO",
        "outputId": "e634a036-b86c-4596-adbe-d460e2eefce4"
      },
      "source": [
        "#code for problem 1\n",
        "l = [1,2,'a','b',\"pradeep\",6,'soma',4]\n",
        "\n",
        "def filter_list(l):\n",
        "    new_list = []\n",
        "    for x in l:\n",
        "        if type(x) == int:\n",
        "            new_list.append(x)\n",
        "    return new_list\n",
        "\n",
        "print(\"list without stringss :\",filter_list(l))"
      ],
      "execution_count": null,
      "outputs": [
        {
          "output_type": "stream",
          "name": "stdout",
          "text": [
            "list without stringss : [1, 2, 6, 4]\n"
          ]
        }
      ]
    },
    {
      "cell_type": "code",
      "metadata": {
        "colab": {
          "base_uri": "https://localhost:8080/"
        },
        "id": "ANnCUB_iXiU9",
        "outputId": "0587cfe1-9667-45a9-d2fc-b072d395a75b"
      },
      "source": [
        "#code for problem 2\n",
        "list1 = [10, 20, 4, 45, 299,9]\n",
        "  \n",
        "# sorting the list\n",
        "list1.sort()\n",
        "  \n",
        "# printing the last element\n",
        "print(\"Largest element is:\", list1[-1])"
      ],
      "execution_count": null,
      "outputs": [
        {
          "output_type": "stream",
          "name": "stdout",
          "text": [
            "Largest element is: 299\n"
          ]
        }
      ]
    },
    {
      "cell_type": "code",
      "metadata": {
        "colab": {
          "base_uri": "https://localhost:8080/"
        },
        "id": "5w-QBS2HXpIg",
        "outputId": "e7a45290-f569-4082-be7c-d05b2047c1b7"
      },
      "source": [
        "#code for problem 3\n",
        "def diffList():\n",
        "  list1=[7,12,2,4,5,6,14]\n",
        "  \n",
        "  list1.sort()\n",
        "  #return max(list1)-min(list1)\n",
        "  num=list1[len(list1)-1]-list1[0]\n",
        "  return num\n",
        "\n",
        "print(\"The difference between biggest and smallest values is\",diffList())  "
      ],
      "execution_count": null,
      "outputs": [
        {
          "output_type": "stream",
          "name": "stdout",
          "text": [
            "The difference between biggest and smallest values is 12\n"
          ]
        }
      ]
    },
    {
      "cell_type": "code",
      "metadata": {
        "colab": {
          "base_uri": "https://localhost:8080/"
        },
        "id": "yHfvtZgdXw9A",
        "outputId": "b50d205a-4167-4a7c-c4c2-a4e85d7d51d3"
      },
      "source": [
        "#code for problem 4\n",
        "def sumEleList():\n",
        "   num=int(input(\"How many numbers(length) :\"))\n",
        "   lst=[]\n",
        "   for n in range(num):\n",
        "       numbers=int(input(\"Enter number :\"))\n",
        "       lst.append(numbers)\n",
        "   return sum(lst)\n",
        "   \n",
        "print(\"Sum of eles :\",sumEleList())"
      ],
      "execution_count": null,
      "outputs": [
        {
          "output_type": "stream",
          "name": "stdout",
          "text": [
            "How many numbers(length) :2\n",
            "Enter number :3\n",
            "Enter number :5\n",
            "Sum of eles : 8\n"
          ]
        }
      ]
    },
    {
      "cell_type": "code",
      "metadata": {
        "colab": {
          "base_uri": "https://localhost:8080/"
        },
        "id": "teXHdmdkX5jH",
        "outputId": "b792932c-2409-4004-f564-395fd1a05eef"
      },
      "source": [
        "#code for problem 5\n",
        "def partOfNumber(num):\n",
        "    lst=[]\n",
        "  #  num=int(input(\"Enter a number :\"))\n",
        "    half=num/2\n",
        "    quarter=num/4\n",
        "    eigth=num/8\n",
        "    lst.append(half)\n",
        "    lst.append(quarter)\n",
        "    lst.append(eigth)\n",
        "    return lst\n",
        "\n",
        "num=int(input(\"Enter a number :\"))\n",
        "partOfNumber(num)   "
      ],
      "execution_count": null,
      "outputs": [
        {
          "name": "stdout",
          "output_type": "stream",
          "text": [
            "Enter a number :8\n"
          ]
        },
        {
          "output_type": "execute_result",
          "data": {
            "text/plain": [
              "[4.0, 2.0, 1.0]"
            ]
          },
          "metadata": {},
          "execution_count": 16
        }
      ]
    },
    {
      "cell_type": "code",
      "metadata": {
        "colab": {
          "base_uri": "https://localhost:8080/"
        },
        "id": "64Y7Wzs3YB_i",
        "outputId": "43fb02ea-4403-4d6b-cc8f-e2d50634b0f7"
      },
      "source": [
        "#code for problem 6\n",
        "def addIndexAndNbr(lst):\n",
        "  lst1=[]\n",
        "  j=0\n",
        "  for i in range(len(lst)):\n",
        "     j=i+lst[i]\n",
        "     lst1.append(j)\n",
        "  return lst1\n",
        "\n",
        "lst=[5,4,3,2,1]\n",
        "addIndexAndNbr(lst)"
      ],
      "execution_count": null,
      "outputs": [
        {
          "output_type": "execute_result",
          "data": {
            "text/plain": [
              "[5, 5, 5, 5, 5]"
            ]
          },
          "metadata": {},
          "execution_count": 17
        }
      ]
    },
    {
      "cell_type": "code",
      "metadata": {
        "colab": {
          "base_uri": "https://localhost:8080/"
        },
        "id": "_yPqdNQJYKUT",
        "outputId": "26fd24cc-6d38-4a98-fe88-19823477beda"
      },
      "source": [
        "#code for problem 7\n",
        "def addDelInList(lst,num):\n",
        "  lst1=[]\n",
        "  lst.append(num)\n",
        "  lst.remove(lst[0])\n",
        "  return lst\n",
        "\n",
        "lst=[1,2,3,4,5]\n",
        "num=int(input(\"Enter a number :\"))\n",
        "addDelInList(lst,num)"
      ],
      "execution_count": null,
      "outputs": [
        {
          "name": "stdout",
          "output_type": "stream",
          "text": [
            "Enter a number :9\n"
          ]
        },
        {
          "output_type": "execute_result",
          "data": {
            "text/plain": [
              "[2, 3, 4, 5, 9]"
            ]
          },
          "metadata": {},
          "execution_count": 18
        }
      ]
    },
    {
      "cell_type": "code",
      "metadata": {
        "colab": {
          "base_uri": "https://localhost:8080/"
        },
        "id": "uLdWlIy9YUWd",
        "outputId": "fd9467ef-444d-4e4f-ecd1-d1c3ad7a6a0a"
      },
      "source": [
        "#code for problem 8\n",
        "def elimDuplicates(test_list):\n",
        "  lst=[]\n",
        "  test_list.sort()\n",
        "  print(\"Sorted list :\",test_list)\n",
        "  for i in test_list:\n",
        "    if i not in lst:\n",
        "      lst.append(i)\n",
        "  return lst\n",
        "\n",
        "test_list = [1, 3, 5, 6, 3, 5, 6, 1]\n",
        "print(\"original list :\",test_list)\n",
        "print(\"list after deleting duplicates :\",elimDuplicates(test_list))"
      ],
      "execution_count": null,
      "outputs": [
        {
          "output_type": "stream",
          "name": "stdout",
          "text": [
            "original list : [1, 3, 5, 6, 3, 5, 6, 1]\n",
            "Sorted list : [1, 1, 3, 3, 5, 5, 6, 6]\n",
            "list after deleting duplicates : [1, 3, 5, 6]\n"
          ]
        }
      ]
    }
  ]
}